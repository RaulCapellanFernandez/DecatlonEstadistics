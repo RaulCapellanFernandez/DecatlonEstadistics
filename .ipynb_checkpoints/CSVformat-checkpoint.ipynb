{
 "cells": [
  {
   "cell_type": "code",
   "execution_count": 1,
   "metadata": {},
   "outputs": [],
   "source": [
    "#Lee el archivo CSV y mete por campos en sus respectivas listas\n",
    "import csv\n",
    "\n",
    "rank=[]         #Posicion 0\n",
    "athlete=[]      #Posicion 1\n",
    "age=[]          #Posicion 2\n",
    "team=[]         #Posicion 3\n",
    "noc=[]          #Posicion 4\n",
    "p1985at=[]      #Posicion 8\n",
    "\n",
    "with open('C:/Users/cp/Documents/GitHub/DecatlonEstadistics/resources/olympics_summer_1956_ATH_mens-decathlon_final_standings.csv') as csvarchivo:\n",
    "    entrada = csv.reader(csvarchivo)\n",
    "    for reg in entrada:\n",
    "        rank.append(reg[0])\n",
    "        athlete.append(reg[1])\n",
    "        age.append(reg[2])\n",
    "        team.append(reg[3])\n",
    "        noc.append(reg[4])\n",
    "        p1985at.append(reg[8])"
   ]
  },
  {
   "cell_type": "code",
   "execution_count": 2,
   "metadata": {},
   "outputs": [
    {
     "name": "stdout",
     "output_type": "stream",
     "text": [
      "Athlete\n",
      "Milt Campbell\n",
      "Rafer Johnson\n",
      "Vasily Kuznetsov\n",
      "Uno Palu\n",
      "Martin Lauer\n",
      "Walter Meier\n",
      "TorbjÃƒÂ¶rn Lassenius\n",
      "Yang C. K.\n",
      "Pat Leane\n",
      "John Cann\n",
      "Ian Bruce\n",
      "Nadjmeddin Farabi\n",
      "Bob Richards\n",
      "Yuriy Kutenko\n",
      "Walter Herssens\n"
     ]
    }
   ],
   "source": [
    "#Imprime lo que contiene una de las listas\n",
    "for i in athlete:\n",
    "    print(i)"
   ]
  },
  {
   "cell_type": "code",
   "execution_count": 16,
   "metadata": {},
   "outputs": [
    {
     "ename": "ValueError",
     "evalue": "invalid literal for int() with base 10: ''",
     "output_type": "error",
     "traceback": [
      "\u001b[1;31m---------------------------------------------------------------------------\u001b[0m",
      "\u001b[1;31mValueError\u001b[0m                                Traceback (most recent call last)",
      "\u001b[1;32m<ipython-input-16-255817446691>\u001b[0m in \u001b[0;36m<module>\u001b[1;34m\u001b[0m\n\u001b[0;32m     19\u001b[0m \u001b[1;32mfor\u001b[0m \u001b[0mi\u001b[0m \u001b[1;32min\u001b[0m \u001b[0mage\u001b[0m\u001b[1;33m:\u001b[0m\u001b[1;33m\u001b[0m\u001b[1;33m\u001b[0m\u001b[0m\n\u001b[0;32m     20\u001b[0m     \u001b[1;32mif\u001b[0m \u001b[0mi\u001b[0m \u001b[1;33m!=\u001b[0m \u001b[1;34m\"Age\"\u001b[0m\u001b[1;33m:\u001b[0m\u001b[1;33m\u001b[0m\u001b[1;33m\u001b[0m\u001b[0m\n\u001b[1;32m---> 21\u001b[1;33m         \u001b[0mnum\u001b[0m \u001b[1;33m=\u001b[0m \u001b[1;36m1924\u001b[0m \u001b[1;33m-\u001b[0m \u001b[0mint\u001b[0m\u001b[1;33m(\u001b[0m\u001b[0mi\u001b[0m\u001b[1;33m)\u001b[0m\u001b[1;33m\u001b[0m\u001b[1;33m\u001b[0m\u001b[0m\n\u001b[0m\u001b[0;32m     22\u001b[0m     \u001b[0msheet1\u001b[0m\u001b[1;33m.\u001b[0m\u001b[0mwrite\u001b[0m\u001b[1;33m(\u001b[0m\u001b[0mp\u001b[0m\u001b[1;33m,\u001b[0m \u001b[1;36m2\u001b[0m\u001b[1;33m,\u001b[0m \u001b[0mnum\u001b[0m\u001b[1;33m)\u001b[0m\u001b[1;33m\u001b[0m\u001b[1;33m\u001b[0m\u001b[0m\n\u001b[0;32m     23\u001b[0m     \u001b[0mp\u001b[0m \u001b[1;33m=\u001b[0m \u001b[0mp\u001b[0m\u001b[1;33m+\u001b[0m\u001b[1;36m1\u001b[0m\u001b[1;33m\u001b[0m\u001b[1;33m\u001b[0m\u001b[0m\n",
      "\u001b[1;31mValueError\u001b[0m: invalid literal for int() with base 10: ''"
     ]
    }
   ],
   "source": [
    "#Para crear el documento excel y rellenarlo\n",
    "import xlwt \n",
    "from xlwt import Workbook \n",
    "\n",
    "p=0\n",
    "wb = Workbook()\n",
    "sheet1 = wb.add_sheet('Atletas') \n",
    "\n",
    "for i in athlete:\n",
    "    sheet1.write(p, 0, i)\n",
    "    p = p+1\n",
    "    \n",
    "p=0\n",
    "for i in noc:\n",
    "    sheet1.write(p, 1, i)\n",
    "    p = p+1\n",
    "p=0\n",
    "\n",
    "for i in age:\n",
    "    if i != \"Age\":\n",
    "        num = 1924 - double(i)\n",
    "    sheet1.write(p, 2, num)\n",
    "    p = p+1\n",
    "\n",
    "wb.save('BBDDdecathlon.xls') "
   ]
  },
  {
   "cell_type": "code",
   "execution_count": null,
   "metadata": {},
   "outputs": [],
   "source": []
  }
 ],
 "metadata": {
  "kernelspec": {
   "display_name": "Python 3",
   "language": "python",
   "name": "python3"
  },
  "language_info": {
   "codemirror_mode": {
    "name": "ipython",
    "version": 3
   },
   "file_extension": ".py",
   "mimetype": "text/x-python",
   "name": "python",
   "nbconvert_exporter": "python",
   "pygments_lexer": "ipython3",
   "version": "3.7.3"
  }
 },
 "nbformat": 4,
 "nbformat_minor": 2
}
