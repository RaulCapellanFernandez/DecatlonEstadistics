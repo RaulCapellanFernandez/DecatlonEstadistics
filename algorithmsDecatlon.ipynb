{
 "cells": [
  {
   "cell_type": "code",
   "execution_count": 1,
   "metadata": {},
   "outputs": [],
   "source": [
    "import pandas as pd\n",
    "import numpy as np\n",
    "from sklearn.decomposition import PCA"
   ]
  },
  {
   "cell_type": "code",
   "execution_count": 6,
   "metadata": {
    "scrolled": true
   },
   "outputs": [],
   "source": [
    "#Lee el excel generado en el otro documento .ipynb\n",
    "ddbb=pd.read_excel(\"/Github/DecatlonEstadistics/resources/data.xlsx\")\n",
    "del ddbb['1500m NF']\n",
    "\n",
    "ddbb.columns = ['Position', 'Athlete', 'Age', 'Country', 'Total Points', 'Year', 'Competition', '100m', \n",
    "                 '100m Points', 'Lj', 'Lj Points', 'Sp', 'Sp Points', 'Hj', 'Hj Points', '400m', '400m Points', \n",
    "                 '110m H', '110m H Points', 'Dt', 'Dt Points', 'Pv', 'Pv Points', 'Jt', 'Jt Points', \n",
    "                 '1500m Points', '1500m']"
   ]
  },
  {
   "cell_type": "code",
   "execution_count": 12,
   "metadata": {},
   "outputs": [],
   "source": [
    "#Coge unicamente los datos de cada prueba y sus puntuaciones \n",
    "#Para poder aplicar el algoritmo PCA\n",
    "ddbbData = ddbb[['Total Points','100m','100m Points','Lj','Lj Points','Sp','Sp Points',\n",
    "                 'Hj','Hj Points','400m Points','110m H','110m H Points','Dt','Dt Points',\n",
    "                 'Pv','Pv Points','Jt','Jt Points','1500m Points','1500m']]"
   ]
  },
  {
   "cell_type": "code",
   "execution_count": 16,
   "metadata": {},
   "outputs": [
    {
     "data": {
      "text/plain": [
       "PCA(copy=True, iterated_power='auto', n_components=3, random_state=None,\n",
       "    svd_solver='auto', tol=0.0, whiten=False)"
      ]
     },
     "execution_count": 16,
     "metadata": {},
     "output_type": "execute_result"
    }
   ],
   "source": [
    "############################################################################\n",
    "######################## Algoritmo PCA #####################################\n",
    "############################################################################\n",
    "pca = PCA(n_components=3)\n",
    "pca.fit(ddbbData)"
   ]
  },
  {
   "cell_type": "code",
   "execution_count": 18,
   "metadata": {},
   "outputs": [
    {
     "data": {
      "text/plain": [
       "array([[ 1.94702314e-01, -6.31828131e-05,  1.68504196e-02,\n",
       "         8.80967745e-02,  1.82364260e-02,  1.78080322e-01,\n",
       "         1.69880498e-02,  2.43751631e-02,  2.11608353e-02,\n",
       "        -8.99277999e-02, -1.96069218e-04,  2.77228596e-02,\n",
       "         5.89408672e-01,  2.12962996e-02,  9.60914608e-05,\n",
       "         2.95580690e-02,  7.50085964e-01,  1.98473297e-02,\n",
       "         7.87451348e-03, -2.21008628e-04],\n",
       "       [-9.30522066e-01,  2.86995789e-04, -7.52179976e-02,\n",
       "         1.68495537e-02, -7.35575494e-02,  3.30906091e-02,\n",
       "        -7.22295789e-02,  4.55482998e-03, -9.90367576e-02,\n",
       "        -1.02683155e-01,  8.54221019e-04, -1.12581660e-01,\n",
       "         1.22699962e-01, -7.85437499e-02, -6.91050277e-04,\n",
       "        -1.73894872e-01,  1.46780205e-01, -8.15089748e-02,\n",
       "        -6.10880239e-02,  5.63243782e-03],\n",
       "       [-7.22489285e-03,  1.54945339e-05, -4.56111102e-03,\n",
       "        -2.59510071e-02,  2.04101303e-02, -8.38977233e-02,\n",
       "        -1.71075901e-02, -4.11862521e-03,  8.13074592e-03,\n",
       "         3.36305259e-02,  3.99222584e-05, -1.04578762e-02,\n",
       "        -7.67897159e-01, -4.79220674e-03, -4.63160875e-05,\n",
       "        -7.21314159e-03,  6.32736282e-01,  9.23699952e-03,\n",
       "         2.20642254e-04, -6.33446249e-04]])"
      ]
     },
     "execution_count": 18,
     "metadata": {},
     "output_type": "execute_result"
    }
   ],
   "source": [
    "pca.components_"
   ]
  },
  {
   "cell_type": "code",
   "execution_count": null,
   "metadata": {},
   "outputs": [],
   "source": []
  }
 ],
 "metadata": {
  "kernelspec": {
   "display_name": "Python 3",
   "language": "python",
   "name": "python3"
  },
  "language_info": {
   "codemirror_mode": {
    "name": "ipython",
    "version": 3
   },
   "file_extension": ".py",
   "mimetype": "text/x-python",
   "name": "python",
   "nbconvert_exporter": "python",
   "pygments_lexer": "ipython3",
   "version": "3.7.6"
  }
 },
 "nbformat": 4,
 "nbformat_minor": 4
}
