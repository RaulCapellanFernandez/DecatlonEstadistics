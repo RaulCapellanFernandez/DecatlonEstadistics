{
 "cells": [
  {
   "cell_type": "code",
   "execution_count": 20,
   "metadata": {},
   "outputs": [],
   "source": [
    "import pandas as pd\n",
    "import numpy as np\n",
    "import matplotlib.pyplot as plt\n",
    "import seaborn as sns\n",
    "from sklearn.decomposition import PCA"
   ]
  },
  {
   "cell_type": "code",
   "execution_count": 21,
   "metadata": {
    "scrolled": true
   },
   "outputs": [],
   "source": [
    "#Lee el excel generado en el otro documento .ipynb\n",
    "ddbb=pd.read_excel(\"/Github/DecatlonEstadistics/resources/data.xlsx\")\n",
    "del ddbb['1500m NF']\n",
    "\n",
    "ddbb.columns = ['Position', 'Athlete', 'Age', 'Country', 'Total Points', 'Year', 'Competition', '100m', \n",
    "                 '100m Points', 'Lj', 'Lj Points', 'Sp', 'Sp Points', 'Hj', 'Hj Points', '400m', '400m Points', \n",
    "                 '110m H', '110m H Points', 'Dt', 'Dt Points', 'Pv', 'Pv Points', 'Jt', 'Jt Points', \n",
    "                 '1500m Points', '1500m']"
   ]
  },
  {
   "cell_type": "code",
   "execution_count": 64,
   "metadata": {},
   "outputs": [],
   "source": [
    "#Coge unicamente los datos de cada prueba y sus puntuaciones \n",
    "#Para poder aplicar el algoritmo PCA\n",
    "ddbbData = ddbb[['100m','100m Points','Lj','Lj Points','Sp','Sp Points',\n",
    "                 'Hj','Hj Points','400m Points','400m','110m H','110m H Points','Dt','Dt Points',\n",
    "                 'Pv','Pv Points','Jt','Jt Points','1500m Points','1500m']]"
   ]
  },
  {
   "cell_type": "code",
   "execution_count": 68,
   "metadata": {},
   "outputs": [
    {
     "name": "stdout",
     "output_type": "stream",
     "text": [
      "[[2.15781011e-05 5.94216156e-03 8.93500104e-02 7.55877208e-03\n",
      "  1.80472514e-01 6.44745986e-03 2.47044833e-02 6.80811066e-03\n",
      "  1.03388259e-01 1.10596505e-01 7.09532198e-05 1.12513480e-02\n",
      "  5.98338515e-01 9.82762465e-03 3.20805438e-06 4.52193487e-03\n",
      "  7.59880087e-01 7.95052638e-03 9.68957057e-04 5.90996698e-04]\n",
      " [8.63054159e-04 2.28016315e-01 1.76147438e-03 2.71529464e-01\n",
      "  2.69683884e-03 2.16179891e-01 4.35890583e-05 3.10060857e-01\n",
      "  2.54921956e-01 6.55940044e-03 2.66797265e-03 3.62912729e-01\n",
      "  5.34891819e-02 2.41713099e-01 2.33282552e-03 6.12928717e-01\n",
      "  5.30666233e-02 2.50737124e-01 1.78135271e-01 1.63093783e-02]]\n"
     ]
    }
   ],
   "source": [
    "############################################################################\n",
    "######################## Algoritmo PCA #####################################\n",
    "############################################################################\n",
    "pca = PCA(n_components=2)\n",
    "new = pca.fit_transform(ddbbData)\n",
    "\n",
    "#Muestra la importancia de las caracteristicas en porcentajes\n",
    "print(abs( pca.components_ ))"
   ]
  },
  {
   "cell_type": "code",
   "execution_count": null,
   "metadata": {},
   "outputs": [],
   "source": []
  }
 ],
 "metadata": {
  "kernelspec": {
   "display_name": "Python 3",
   "language": "python",
   "name": "python3"
  },
  "language_info": {
   "codemirror_mode": {
    "name": "ipython",
    "version": 3
   },
   "file_extension": ".py",
   "mimetype": "text/x-python",
   "name": "python",
   "nbconvert_exporter": "python",
   "pygments_lexer": "ipython3",
   "version": "3.7.6"
  }
 },
 "nbformat": 4,
 "nbformat_minor": 4
}
