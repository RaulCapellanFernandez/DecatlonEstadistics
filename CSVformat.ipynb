{
 "cells": [
  {
   "cell_type": "code",
   "execution_count": 88,
   "metadata": {},
   "outputs": [],
   "source": [
    "import csv\n",
    "\n",
    "rank=[]         #Posicion 0\n",
    "athlete=[]      #Posicion 1\n",
    "age=[]          #Posicion 2\n",
    "team=[]         #Posicion 3\n",
    "noc=[]          #Posicion 4\n",
    "p1985at=[]      #Posicion 8\n",
    "\n",
    "with open('C:/Users/cp/Documents/GitHub/DecatlonEstadistics/resources/olympics_summer_1956_ATH_mens-decathlon_final_standings.csv') as csvarchivo:\n",
    "    entrada = csv.reader(csvarchivo)\n",
    "    for reg in entrada:\n",
    "        rank.append(reg[0])\n",
    "        rank.append(reg[1])\n",
    "        rank.append(reg[2])\n",
    "        rank.append(reg[3])\n",
    "        rank.append(reg[4])\n",
    "        rank.append(reg[8])"
   ]
  },
  {
   "cell_type": "code",
   "execution_count": null,
   "metadata": {},
   "outputs": [],
   "source": []
  },
  {
   "cell_type": "code",
   "execution_count": null,
   "metadata": {},
   "outputs": [],
   "source": []
  },
  {
   "cell_type": "code",
   "execution_count": null,
   "metadata": {},
   "outputs": [],
   "source": []
  }
 ],
 "metadata": {
  "kernelspec": {
   "display_name": "Python 3",
   "language": "python",
   "name": "python3"
  },
  "language_info": {
   "codemirror_mode": {
    "name": "ipython",
    "version": 3
   },
   "file_extension": ".py",
   "mimetype": "text/x-python",
   "name": "python",
   "nbconvert_exporter": "python",
   "pygments_lexer": "ipython3",
   "version": "3.7.3"
  }
 },
 "nbformat": 4,
 "nbformat_minor": 2
}
