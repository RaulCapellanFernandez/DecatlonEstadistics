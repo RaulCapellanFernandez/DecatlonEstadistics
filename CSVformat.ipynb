{
 "cells": [
  {
   "cell_type": "code",
   "execution_count": 1,
   "metadata": {},
   "outputs": [],
   "source": [
    "#Lee el archivo CSV y mete por campos en sus respectivas listas\n",
    "import csv\n",
    "\n",
    "rank=[]         #Posicion 0\n",
    "athlete=[]      #Posicion 1\n",
    "age=[]          #Posicion 2\n",
    "team=[]         #Posicion 3\n",
    "noc=[]          #Posicion 4\n",
    "p1985at=[]      #Posicion 8\n",
    "\n",
    "with open('C:/Users/cp/Documents/GitHub/DecatlonEstadistics/resources/olympics_summer_1956_ATH_mens-decathlon_final_standings.csv') as csvarchivo:\n",
    "    entrada = csv.reader(csvarchivo)\n",
    "    for reg in entrada:\n",
    "        rank.append(reg[0])\n",
    "        athlete.append(reg[1])\n",
    "        age.append(reg[2])\n",
    "        team.append(reg[3])\n",
    "        noc.append(reg[4])\n",
    "        p1985at.append(reg[8])"
   ]
  },
  {
   "cell_type": "code",
   "execution_count": 20,
   "metadata": {},
   "outputs": [
    {
     "name": "stdout",
     "output_type": "stream",
     "text": [
      "Age\n",
      "22\n",
      "21\n",
      "24\n",
      "23\n",
      "19\n",
      "29\n",
      "25\n",
      "23\n",
      "26\n",
      "18\n",
      "21\n",
      "\n",
      "30\n",
      "24\n",
      "26\n"
     ]
    }
   ],
   "source": [
    "#Imprime lo que contiene una de las listas\n",
    "for i in age:\n",
    "    print(i)"
   ]
  },
  {
   "cell_type": "code",
   "execution_count": 25,
   "metadata": {},
   "outputs": [],
   "source": [
    "#Para crear el documento excel y rellenarlo\n",
    "import xlwt \n",
    "from xlwt import Workbook \n",
    "\n",
    "p=0\n",
    "wb = Workbook()\n",
    "sheet1 = wb.add_sheet('Atletas') \n",
    "\n",
    "for i in athlete:\n",
    "    sheet1.write(p, 0, i)\n",
    "    p = p+1\n",
    "    \n",
    "p=0\n",
    "for i in noc:\n",
    "    sheet1.write(p, 1, i)\n",
    "    p = p+1\n",
    "p=0\n",
    "\n",
    "for i in age:\n",
    "    if i != \"Age\" and i != \"\":\n",
    "        num = 1924 - int(float(i))\n",
    "        i= num\n",
    "        \n",
    "    sheet1.write(p, 2, i)\n",
    "    p = p+1\n",
    "\n",
    "wb.save('BBDDdecathlon.xls') "
   ]
  },
  {
   "cell_type": "code",
   "execution_count": null,
   "metadata": {},
   "outputs": [],
   "source": []
  }
 ],
 "metadata": {
  "kernelspec": {
   "display_name": "Python 3",
   "language": "python",
   "name": "python3"
  },
  "language_info": {
   "codemirror_mode": {
    "name": "ipython",
    "version": 3
   },
   "file_extension": ".py",
   "mimetype": "text/x-python",
   "name": "python",
   "nbconvert_exporter": "python",
   "pygments_lexer": "ipython3",
   "version": "3.7.3"
  }
 },
 "nbformat": 4,
 "nbformat_minor": 2
}
