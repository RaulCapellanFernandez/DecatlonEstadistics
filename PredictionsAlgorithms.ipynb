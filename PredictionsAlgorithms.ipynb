{
 "cells": [
  {
   "cell_type": "markdown",
   "metadata": {},
   "source": [
    "# Parte 3: Estudio de diferentes algoritmos de machine learning"
   ]
  },
  {
   "cell_type": "markdown",
   "metadata": {},
   "source": [
    "En este notebook vamos a aplicar diferentes algoritmos para estudiar su efectividad para este problema e intentaremos predicciones para los Juegos Olímpicos de 2021.\n",
    "\n",
    "Los algoritmos que se aplican son: \n",
    "* Matriz de confusión\n",
    "* Datos de entrenamiento y datos de test\n",
    "* Knn - Vecinos cercanos\n",
    "* Regresión Lineal\n",
    "* Regresión Logística\n",
    "* Naive Bayes\n",
    "* Gaussian Naive Bayes\n",
    "* K-means\n",
    "* Perceptron\n",
    "* MLP - Multi layer perceptron\n",
    "* Decision Tree\n",
    "* SVM - Supervised Vector Machine\n",
    "* Descenso del gradiente\n",
    "* Random Forest\n",
    "* ¿¿RED NEURONAL??"
   ]
  },
  {
   "cell_type": "code",
   "execution_count": 1,
   "metadata": {},
   "outputs": [],
   "source": [
    "import pandas as pd\n",
    "\n",
    "import numpy as np\n",
    "from numpy import * \n",
    "\n",
    "import matplotlib.pyplot as plt\n",
    "%matplotlib inline\n",
    "import seaborn as sns\n",
    "\n",
    "from sklearn import metrics\n",
    "from sklearn.model_selection import train_test_split\n",
    "from sklearn.metrics import plot_confusion_matrix\n",
    "\n",
    "from sklearn.neighbors import KNeighborsClassifier\n",
    "from sklearn import linear_model\n",
    "from sklearn.naive_bayes import GaussianNB\n",
    "from sklearn import svm\n",
    "from sklearn.tree import DecisionTreeClassifier\n",
    "from sklearn.cluster import KMeans\n",
    "from sklearn.linear_model import Perceptron\n",
    "from sklearn.neural_network import MLPClassifier\n",
    "from sklearn.linear_model import SGDClassifier\n",
    "from sklearn.ensemble import RandomForestClassifier\n",
    "from sklearn.preprocessing import scale\n",
    "from sklearn.metrics import confusion_matrix,classification_report\n",
    "from sklearn.metrics import accuracy_score, precision_score, recall_score, f1_score\n",
    "\n",
    "import warnings\n",
    "warnings.filterwarnings('ignore')"
   ]
  },
  {
   "cell_type": "code",
   "execution_count": 2,
   "metadata": {},
   "outputs": [],
   "source": [
    "#Lee el excel generado en el otro documento .ipynb\n",
    "ddbb=pd.read_excel(\"/Github/DecatlonEstadistics/resources/data.xlsx\")\n",
    "del ddbb['1500m NF']\n",
    "\n",
    "ddbb['Country']=ddbb['Country'].str.lower()\n",
    "\n",
    "ddbb.columns = ['Position', 'Athlete', 'Age', 'Country', 'Total Points', 'Year', 'Competition', '100m', \n",
    "                 '100m Points', 'Lj', 'Lj Points', 'Sp', 'Sp Points', 'Hj', 'Hj Points', '400m', '400m Points', \n",
    "                 '110m H', '110m H Points', 'Dt', 'Dt Points', 'Pv', 'Pv Points', 'Jt', 'Jt Points', \n",
    "                 '1500m Points', '1500m']"
   ]
  },
  {
   "cell_type": "markdown",
   "metadata": {},
   "source": [
    "## 0. Métricas Algoritmos"
   ]
  },
  {
   "cell_type": "code",
   "execution_count": 3,
   "metadata": {},
   "outputs": [],
   "source": [
    "def metricasAlgorithms(y_test, y_pred):\n",
    "    metricas = []\n",
    "    \n",
    "    metricas.append(accuracy_score(y_test, y_pred))\n",
    "    \n",
    "    metricas.append(precision_score(y_test, y_pred, average='micro'))\n",
    "    metricas.append(recall_score(y_test, y_pred, average='micro'))\n",
    "    metricas.append(f1_score(y_test, y_pred, average='micro'))\n",
    "\n",
    "    metricas.append(precision_score(y_test, y_pred, average='macro'))\n",
    "    metricas.append(recall_score(y_test, y_pred, average='macro'))\n",
    "    metricas.append(f1_score(y_test, y_pred, average='macro'))\n",
    "\n",
    "    metricas.append(precision_score(y_test, y_pred, average='weighted'))\n",
    "    metricas.append(recall_score(y_test, y_pred, average='weighted'))\n",
    "    metricas.append(f1_score(y_test, y_pred, average='weighted'))\n",
    "    \n",
    "    return metricas\n",
    "\n",
    "def metricasAlgorithmsRegl(X_test, y_test, regL):\n",
    "    metricas = []\n",
    "    \n",
    "    metricas.append(regL.score(X_test,y_test))\n",
    "    metricas.append(0)\n",
    "    metricas.append(0)\n",
    "    metricas.append(0)\n",
    "    metricas.append(0)\n",
    "    metricas.append(0)\n",
    "    metricas.append(0)\n",
    "    metricas.append(0)\n",
    "    metricas.append(0)\n",
    "    metricas.append(0)\n",
    "    \n",
    "    return metricas"
   ]
  },
  {
   "cell_type": "code",
   "execution_count": 4,
   "metadata": {},
   "outputs": [],
   "source": [
    "pKmeans = []\n",
    "\n",
    "for i in range(len(ddbb)):\n",
    "    if(ddbb.iloc[i]['Position'] <= 10):\n",
    "        pKmeans.append(10)\n",
    "    elif(ddbb.iloc[i]['Position'] > 10 and ddbb.iloc[i]['Position'] <= 25):\n",
    "        pKmeans.append(25)\n",
    "    elif(ddbb.iloc[i]['Position'] > 25):\n",
    "        pKmeans.append(30)"
   ]
  },
  {
   "cell_type": "markdown",
   "metadata": {},
   "source": []
  },
  {
   "cell_type": "markdown",
   "metadata": {},
   "source": [
    "## 2. Vecinos Cercanos"
   ]
  },
  {
   "cell_type": "code",
   "execution_count": 5,
   "metadata": {},
   "outputs": [],
   "source": [
    "def knnFunction(X_train, X_test, y_train, y_test):\n",
    "    \n",
    "    knn = KNeighborsClassifier(n_neighbors=5)\n",
    "\n",
    "    #Entrena el modelo\n",
    "    knn.fit(X_train, y_train)\n",
    "\n",
    "    #Predice para los datos de test\n",
    "    y_pred = knn.predict(X_test)\n",
    "    \n",
    "    vector = metricasAlgorithms(y_test, y_pred)\n",
    "    \n",
    "    return(vector)"
   ]
  },
  {
   "cell_type": "markdown",
   "metadata": {},
   "source": [
    "## 3. Regresión Lineal"
   ]
  },
  {
   "cell_type": "code",
   "execution_count": 6,
   "metadata": {},
   "outputs": [],
   "source": [
    "def RegLinealFunction(X_train, X_test, y_train, y_test):\n",
    "    \n",
    "    regL = linear_model.LinearRegression()\n",
    "    \n",
    "    regL.fit(X_train, y_train)\n",
    "    \n",
    "    y_pred = regL.predict(X_test)\n",
    "    \n",
    "    return metricasAlgorithmsRegl(X_test, y_test, regL)"
   ]
  },
  {
   "cell_type": "markdown",
   "metadata": {},
   "source": [
    "## 4. Regresión Logística"
   ]
  },
  {
   "cell_type": "code",
   "execution_count": 7,
   "metadata": {},
   "outputs": [],
   "source": [
    "def RegLogisFunction(X_train, X_test, y_train, y_test):\n",
    "    \n",
    "    logreg = linear_model.LogisticRegression(random_state=0)\n",
    "\n",
    "    logreg.fit(X_train, y_train)\n",
    "\n",
    "    y_pred = logreg.predict(X_test)\n",
    "    \n",
    "    return metricasAlgorithms(y_test, y_pred)"
   ]
  },
  {
   "cell_type": "markdown",
   "metadata": {},
   "source": [
    "## 5. Naive Bayes"
   ]
  },
  {
   "cell_type": "code",
   "execution_count": 8,
   "metadata": {},
   "outputs": [],
   "source": [
    "def NaiveBayesFunction(X_train, X_test, y_train, y_test):\n",
    "    \n",
    "    gnb = GaussianNB()\n",
    "\n",
    "    gnb.fit(X_train, y_train)\n",
    "\n",
    "    y_pred = gnb.predict(X_test)\n",
    "\n",
    "    metricasAlgorithms(y_test, y_pred)\n",
    "    \n",
    "    return metricasAlgorithms(y_test, y_pred)"
   ]
  },
  {
   "cell_type": "markdown",
   "metadata": {},
   "source": [
    "##  6. K-Means"
   ]
  },
  {
   "cell_type": "code",
   "execution_count": 9,
   "metadata": {},
   "outputs": [],
   "source": [
    "def KmeansFunction(pKmeans, ddbbData):\n",
    "\n",
    "    X = scale(ddbbData)\n",
    "    y = pd.DataFrame(pKmeans)\n",
    "\n",
    "    kmeans1 = KMeans(n_clusters=1 , random_state= 5)\n",
    "\n",
    "    kmeans1.fit(X)\n",
    "\n",
    "    y_pred = np.choose(kmeans1.labels_,[10,25,30]).astype(np.int64)\n",
    "\n",
    "    return metricasAlgorithms(y, y_pred)"
   ]
  },
  {
   "cell_type": "markdown",
   "metadata": {},
   "source": [
    "## 7. Perceptron"
   ]
  },
  {
   "cell_type": "code",
   "execution_count": 10,
   "metadata": {},
   "outputs": [],
   "source": [
    "def PerceptronFunction(X_train, X_test, y_train, y_test):\n",
    "    \n",
    "    percep = Perceptron(tol=1e-5, random_state=1)\n",
    "\n",
    "    percep.fit(X_train, y_train)\n",
    "\n",
    "    y_pred = percep.predict(X_test)\n",
    "\n",
    "    metricasAlgorithms(y_test, y_pred)\n",
    "    \n",
    "    return metricasAlgorithms(y_test, y_pred)"
   ]
  },
  {
   "cell_type": "markdown",
   "metadata": {},
   "source": [
    "## 8. MLP- Perceptron Multi Capa"
   ]
  },
  {
   "cell_type": "code",
   "execution_count": 11,
   "metadata": {},
   "outputs": [],
   "source": [
    "def MLPFunction(X_train, X_test, y_train, y_test):\n",
    "\n",
    "    mlp = MLPClassifier(solver='lbfgs', alpha=1e-5,hidden_layer_sizes=(5, 2), random_state=1)\n",
    "\n",
    "    mlp.fit(X_train, y_train)\n",
    "\n",
    "    y_pred = mlp.predict(X_test)\n",
    "\n",
    "    metricasAlgorithms(y_test, y_pred)\n",
    "    \n",
    "    return metricasAlgorithms(y_test, y_pred)"
   ]
  },
  {
   "cell_type": "markdown",
   "metadata": {},
   "source": [
    "## 9. SVM - Supervised Vector Machine"
   ]
  },
  {
   "cell_type": "code",
   "execution_count": 12,
   "metadata": {},
   "outputs": [],
   "source": [
    "def SVMFunction(X_train, X_test, y_train, y_test):\n",
    "\n",
    "    clf = svm.SVC(kernel='linear')\n",
    "\n",
    "    clf.fit(X_train, y_train)\n",
    "\n",
    "    y_pred = clf.predict(X_test)\n",
    "\n",
    "    metricasAlgorithms(y_test, y_pred)\n",
    "\n",
    "    return metricasAlgorithms(y_test, y_pred)"
   ]
  },
  {
   "cell_type": "markdown",
   "metadata": {},
   "source": [
    "## 10. Descenso del gradiente"
   ]
  },
  {
   "cell_type": "code",
   "execution_count": 13,
   "metadata": {},
   "outputs": [],
   "source": [
    "def DescensoGradFunction(X_train, X_test, y_train, y_test):\n",
    "\n",
    "    dGrad = SGDClassifier(loss=\"hinge\", penalty=\"l2\")\n",
    "\n",
    "    dGrad.fit(X_train, y_train)\n",
    "\n",
    "    y_pred = dGrad.predict(X_test)\n",
    "\n",
    "    metricasAlgorithms(y_test, y_pred)\n",
    "\n",
    "    return metricasAlgorithms(y_test, y_pred)"
   ]
  },
  {
   "cell_type": "markdown",
   "metadata": {},
   "source": [
    "## 11. Arbol de decision"
   ]
  },
  {
   "cell_type": "code",
   "execution_count": 14,
   "metadata": {},
   "outputs": [],
   "source": [
    "def ArbolDecFunction(X_train, X_test, y_train, y_test):\n",
    "\n",
    "    clf = DecisionTreeClassifier(criterion=\"entropy\", max_depth=3)\n",
    "\n",
    "    clf = clf.fit(X_train,y_train)\n",
    "\n",
    "    y_pred = clf.predict(X_test)\n",
    "\n",
    "    metricasAlgorithms(y_test, y_pred)\n",
    "    \n",
    "    return metricasAlgorithms(y_test, y_pred)"
   ]
  },
  {
   "cell_type": "markdown",
   "metadata": {},
   "source": [
    "## 12. Random Forest"
   ]
  },
  {
   "cell_type": "code",
   "execution_count": 15,
   "metadata": {},
   "outputs": [],
   "source": [
    "def BosqueAlFunction(X_train, X_test, y_train, y_test):\n",
    "\n",
    "    rForest=RandomForestClassifier(n_estimators=100)\n",
    "\n",
    "    rForest.fit(X_train,y_train)\n",
    "\n",
    "    y_pred=rForest.predict(X_test)\n",
    "\n",
    "    metricasAlgorithms(y_test, y_pred)\n",
    "\n",
    "    return metricasAlgorithms(y_test, y_pred)"
   ]
  },
  {
   "cell_type": "code",
   "execution_count": 16,
   "metadata": {},
   "outputs": [],
   "source": [
    "def ejecutaAlgoritmosMachineLearning(X_train, X_test, y_train, y_test):\n",
    "    knn = knnFunction(X_train, X_test, y_train, y_test)\n",
    "    #kmeans = KmeansFunction(pKmeans, ddbbData)\n",
    "    RegLin = RegLinealFunction(X_train, X_test, y_train, y_test)\n",
    "    RegLog = RegLogisFunction(X_train, X_test, y_train, y_test)\n",
    "    NBayes = NaiveBayesFunction(X_train, X_test, y_train, y_test)\n",
    "    Percep = PerceptronFunction(X_train, X_test, y_train, y_test)\n",
    "    DGrad = DescensoGradFunction(X_train, X_test, y_train, y_test)\n",
    "    mlp = MLPFunction(X_train, X_test, y_train, y_test)\n",
    "    ADecis = ArbolDecFunction(X_train, X_test, y_train, y_test)\n",
    "    BAleatorio = BosqueAlFunction(X_train, X_test, y_train, y_test)\n",
    "    dataFrameDatos = pd.DataFrame({\n",
    "                                    'Metricas': ['Accuracy','Precision Micro','Recall Micro','F1 Micro',\n",
    "                                                 'Precision Macro','Recall Macro','F1 Macro','Precision Weigthed',\n",
    "                                                 'Recall Weigthed','F1 Weigthed'],\n",
    "                                    'knn': knn,\n",
    "                                    'Regresion lineal': RegLin,\n",
    "                                    'Regresion logistica': RegLog,\n",
    "                                    #'Kmeans' : kmeans,\n",
    "                                    'Naive bayes': NBayes,\n",
    "                                    'Perceptron': Percep,\n",
    "                                    'MLP': mlp,\n",
    "                                    #'SVM': SVMFunction(X_train, X_test, y_train, y_test),\n",
    "                                    'Descenso gradiente': DGrad,\n",
    "                                    'Arbol de decision': ADecis,\n",
    "                                    'Bosque aleatorios': BAleatorio \n",
    "                                })\n",
    "    return (dataFrameDatos.loc[[0]])"
   ]
  },
  {
   "cell_type": "markdown",
   "metadata": {},
   "source": [
    "## 1. Datos de entrenamiento y datos de test."
   ]
  },
  {
   "cell_type": "markdown",
   "metadata": {},
   "source": [
    "Los datos se entrenan en función a todas las pruebas resultantes y se clasifican en función a la posición obtenida.\n",
    "El 70% de los datos se utilizan para entrenamiento.\n",
    "El 30% restante se utiliza para tests."
   ]
  },
  {
   "cell_type": "code",
   "execution_count": 17,
   "metadata": {},
   "outputs": [],
   "source": [
    "listaResults = []"
   ]
  },
  {
   "cell_type": "code",
   "execution_count": 18,
   "metadata": {},
   "outputs": [
    {
     "data": {
      "text/html": [
       "<div>\n",
       "<style scoped>\n",
       "    .dataframe tbody tr th:only-of-type {\n",
       "        vertical-align: middle;\n",
       "    }\n",
       "\n",
       "    .dataframe tbody tr th {\n",
       "        vertical-align: top;\n",
       "    }\n",
       "\n",
       "    .dataframe thead th {\n",
       "        text-align: right;\n",
       "    }\n",
       "</style>\n",
       "<table border=\"1\" class=\"dataframe\">\n",
       "  <thead>\n",
       "    <tr style=\"text-align: right;\">\n",
       "      <th></th>\n",
       "      <th>Metricas</th>\n",
       "      <th>knn</th>\n",
       "      <th>Regresion lineal</th>\n",
       "      <th>Regresion logistica</th>\n",
       "      <th>Naive bayes</th>\n",
       "      <th>Perceptron</th>\n",
       "      <th>MLP</th>\n",
       "      <th>Descenso gradiente</th>\n",
       "      <th>Arbol de decision</th>\n",
       "      <th>Bosque aleatorios</th>\n",
       "    </tr>\n",
       "  </thead>\n",
       "  <tbody>\n",
       "    <tr>\n",
       "      <th>0</th>\n",
       "      <td>Accuracy</td>\n",
       "      <td>0.062745</td>\n",
       "      <td>0.214722</td>\n",
       "      <td>0.054902</td>\n",
       "      <td>0.082353</td>\n",
       "      <td>0.047059</td>\n",
       "      <td>0.035294</td>\n",
       "      <td>0.003922</td>\n",
       "      <td>0.062745</td>\n",
       "      <td>0.066667</td>\n",
       "    </tr>\n",
       "  </tbody>\n",
       "</table>\n",
       "</div>"
      ],
      "text/plain": [
       "   Metricas       knn  Regresion lineal  Regresion logistica  Naive bayes  \\\n",
       "0  Accuracy  0.062745          0.214722             0.054902     0.082353   \n",
       "\n",
       "   Perceptron       MLP  Descenso gradiente  Arbol de decision  \\\n",
       "0    0.047059  0.035294            0.003922           0.062745   \n",
       "\n",
       "   Bosque aleatorios  \n",
       "0           0.066667  "
      ]
     },
     "execution_count": 18,
     "metadata": {},
     "output_type": "execute_result"
    }
   ],
   "source": [
    "# Ejecucion para 100m\n",
    "ddbbData = ddbb[['100m','100m Points']]\n",
    "\n",
    "X_train, X_test, y_train, y_test = train_test_split(ddbbData, ddbb['Position'], test_size=0.3)\n",
    "\n",
    "result = ejecutaAlgoritmosMachineLearning(X_train, X_test, y_train, y_test)\n",
    "listaResults.append(result)\n",
    "result"
   ]
  },
  {
   "cell_type": "code",
   "execution_count": 19,
   "metadata": {},
   "outputs": [
    {
     "data": {
      "text/html": [
       "<div>\n",
       "<style scoped>\n",
       "    .dataframe tbody tr th:only-of-type {\n",
       "        vertical-align: middle;\n",
       "    }\n",
       "\n",
       "    .dataframe tbody tr th {\n",
       "        vertical-align: top;\n",
       "    }\n",
       "\n",
       "    .dataframe thead th {\n",
       "        text-align: right;\n",
       "    }\n",
       "</style>\n",
       "<table border=\"1\" class=\"dataframe\">\n",
       "  <thead>\n",
       "    <tr style=\"text-align: right;\">\n",
       "      <th></th>\n",
       "      <th>Metricas</th>\n",
       "      <th>knn</th>\n",
       "      <th>Regresion lineal</th>\n",
       "      <th>Regresion logistica</th>\n",
       "      <th>Naive bayes</th>\n",
       "      <th>Perceptron</th>\n",
       "      <th>MLP</th>\n",
       "      <th>Descenso gradiente</th>\n",
       "      <th>Arbol de decision</th>\n",
       "      <th>Bosque aleatorios</th>\n",
       "    </tr>\n",
       "  </thead>\n",
       "  <tbody>\n",
       "    <tr>\n",
       "      <th>0</th>\n",
       "      <td>Accuracy</td>\n",
       "      <td>0.043137</td>\n",
       "      <td>0.067461</td>\n",
       "      <td>0.035294</td>\n",
       "      <td>0.043137</td>\n",
       "      <td>0.043137</td>\n",
       "      <td>0.047059</td>\n",
       "      <td>0.043137</td>\n",
       "      <td>0.047059</td>\n",
       "      <td>0.039216</td>\n",
       "    </tr>\n",
       "  </tbody>\n",
       "</table>\n",
       "</div>"
      ],
      "text/plain": [
       "   Metricas       knn  Regresion lineal  Regresion logistica  Naive bayes  \\\n",
       "0  Accuracy  0.043137          0.067461             0.035294     0.043137   \n",
       "\n",
       "   Perceptron       MLP  Descenso gradiente  Arbol de decision  \\\n",
       "0    0.043137  0.047059            0.043137           0.047059   \n",
       "\n",
       "   Bosque aleatorios  \n",
       "0           0.039216  "
      ]
     },
     "execution_count": 19,
     "metadata": {},
     "output_type": "execute_result"
    }
   ],
   "source": [
    "# Ejecucion para Lj\n",
    "ddbbData = ddbb[['Lj','Lj Points']]\n",
    "\n",
    "X_train, X_test, y_train, y_test = train_test_split(ddbbData, ddbb['Position'], test_size=0.3)\n",
    "\n",
    "result = ejecutaAlgoritmosMachineLearning(X_train, X_test, y_train, y_test)\n",
    "listaResults.append(result)\n",
    "result"
   ]
  },
  {
   "cell_type": "code",
   "execution_count": 20,
   "metadata": {},
   "outputs": [
    {
     "data": {
      "text/html": [
       "<div>\n",
       "<style scoped>\n",
       "    .dataframe tbody tr th:only-of-type {\n",
       "        vertical-align: middle;\n",
       "    }\n",
       "\n",
       "    .dataframe tbody tr th {\n",
       "        vertical-align: top;\n",
       "    }\n",
       "\n",
       "    .dataframe thead th {\n",
       "        text-align: right;\n",
       "    }\n",
       "</style>\n",
       "<table border=\"1\" class=\"dataframe\">\n",
       "  <thead>\n",
       "    <tr style=\"text-align: right;\">\n",
       "      <th></th>\n",
       "      <th>Metricas</th>\n",
       "      <th>knn</th>\n",
       "      <th>Regresion lineal</th>\n",
       "      <th>Regresion logistica</th>\n",
       "      <th>Naive bayes</th>\n",
       "      <th>Perceptron</th>\n",
       "      <th>MLP</th>\n",
       "      <th>Descenso gradiente</th>\n",
       "      <th>Arbol de decision</th>\n",
       "      <th>Bosque aleatorios</th>\n",
       "    </tr>\n",
       "  </thead>\n",
       "  <tbody>\n",
       "    <tr>\n",
       "      <th>0</th>\n",
       "      <td>Accuracy</td>\n",
       "      <td>0.047059</td>\n",
       "      <td>0.076245</td>\n",
       "      <td>0.039216</td>\n",
       "      <td>0.070588</td>\n",
       "      <td>0.027451</td>\n",
       "      <td>0.035294</td>\n",
       "      <td>0.027451</td>\n",
       "      <td>0.035294</td>\n",
       "      <td>0.019608</td>\n",
       "    </tr>\n",
       "  </tbody>\n",
       "</table>\n",
       "</div>"
      ],
      "text/plain": [
       "   Metricas       knn  Regresion lineal  Regresion logistica  Naive bayes  \\\n",
       "0  Accuracy  0.047059          0.076245             0.039216     0.070588   \n",
       "\n",
       "   Perceptron       MLP  Descenso gradiente  Arbol de decision  \\\n",
       "0    0.027451  0.035294            0.027451           0.035294   \n",
       "\n",
       "   Bosque aleatorios  \n",
       "0           0.019608  "
      ]
     },
     "execution_count": 20,
     "metadata": {},
     "output_type": "execute_result"
    }
   ],
   "source": [
    "# Ejecucion para Sp\n",
    "ddbbData = ddbb[['Sp','Sp Points']]\n",
    "\n",
    "X_train, X_test, y_train, y_test = train_test_split(ddbbData, ddbb['Position'], test_size=0.3)\n",
    "\n",
    "result = ejecutaAlgoritmosMachineLearning(X_train, X_test, y_train, y_test)\n",
    "listaResults.append(result)\n",
    "result"
   ]
  },
  {
   "cell_type": "code",
   "execution_count": 21,
   "metadata": {},
   "outputs": [
    {
     "data": {
      "text/html": [
       "<div>\n",
       "<style scoped>\n",
       "    .dataframe tbody tr th:only-of-type {\n",
       "        vertical-align: middle;\n",
       "    }\n",
       "\n",
       "    .dataframe tbody tr th {\n",
       "        vertical-align: top;\n",
       "    }\n",
       "\n",
       "    .dataframe thead th {\n",
       "        text-align: right;\n",
       "    }\n",
       "</style>\n",
       "<table border=\"1\" class=\"dataframe\">\n",
       "  <thead>\n",
       "    <tr style=\"text-align: right;\">\n",
       "      <th></th>\n",
       "      <th>Metricas</th>\n",
       "      <th>knn</th>\n",
       "      <th>Regresion lineal</th>\n",
       "      <th>Regresion logistica</th>\n",
       "      <th>Naive bayes</th>\n",
       "      <th>Perceptron</th>\n",
       "      <th>MLP</th>\n",
       "      <th>Descenso gradiente</th>\n",
       "      <th>Arbol de decision</th>\n",
       "      <th>Bosque aleatorios</th>\n",
       "    </tr>\n",
       "  </thead>\n",
       "  <tbody>\n",
       "    <tr>\n",
       "      <th>0</th>\n",
       "      <td>Accuracy</td>\n",
       "      <td>0.019608</td>\n",
       "      <td>0.092699</td>\n",
       "      <td>0.027451</td>\n",
       "      <td>0.05098</td>\n",
       "      <td>0.003922</td>\n",
       "      <td>0.027451</td>\n",
       "      <td>0.023529</td>\n",
       "      <td>0.05098</td>\n",
       "      <td>0.031373</td>\n",
       "    </tr>\n",
       "  </tbody>\n",
       "</table>\n",
       "</div>"
      ],
      "text/plain": [
       "   Metricas       knn  Regresion lineal  Regresion logistica  Naive bayes  \\\n",
       "0  Accuracy  0.019608          0.092699             0.027451      0.05098   \n",
       "\n",
       "   Perceptron       MLP  Descenso gradiente  Arbol de decision  \\\n",
       "0    0.003922  0.027451            0.023529            0.05098   \n",
       "\n",
       "   Bosque aleatorios  \n",
       "0           0.031373  "
      ]
     },
     "execution_count": 21,
     "metadata": {},
     "output_type": "execute_result"
    }
   ],
   "source": [
    "# Ejecucion para Hj\n",
    "ddbbData = ddbb[['Hj','Hj Points']]\n",
    "\n",
    "X_train, X_test, y_train, y_test = train_test_split(ddbbData, ddbb['Position'], test_size=0.3)\n",
    "\n",
    "result = ejecutaAlgoritmosMachineLearning(X_train, X_test, y_train, y_test)\n",
    "listaResults.append(result)\n",
    "result"
   ]
  },
  {
   "cell_type": "code",
   "execution_count": 22,
   "metadata": {},
   "outputs": [
    {
     "data": {
      "text/html": [
       "<div>\n",
       "<style scoped>\n",
       "    .dataframe tbody tr th:only-of-type {\n",
       "        vertical-align: middle;\n",
       "    }\n",
       "\n",
       "    .dataframe tbody tr th {\n",
       "        vertical-align: top;\n",
       "    }\n",
       "\n",
       "    .dataframe thead th {\n",
       "        text-align: right;\n",
       "    }\n",
       "</style>\n",
       "<table border=\"1\" class=\"dataframe\">\n",
       "  <thead>\n",
       "    <tr style=\"text-align: right;\">\n",
       "      <th></th>\n",
       "      <th>Metricas</th>\n",
       "      <th>knn</th>\n",
       "      <th>Regresion lineal</th>\n",
       "      <th>Regresion logistica</th>\n",
       "      <th>Naive bayes</th>\n",
       "      <th>Perceptron</th>\n",
       "      <th>MLP</th>\n",
       "      <th>Descenso gradiente</th>\n",
       "      <th>Arbol de decision</th>\n",
       "      <th>Bosque aleatorios</th>\n",
       "    </tr>\n",
       "  </thead>\n",
       "  <tbody>\n",
       "    <tr>\n",
       "      <th>0</th>\n",
       "      <td>Accuracy</td>\n",
       "      <td>0.035294</td>\n",
       "      <td>0.064629</td>\n",
       "      <td>0.047059</td>\n",
       "      <td>0.047059</td>\n",
       "      <td>0.011765</td>\n",
       "      <td>0.035294</td>\n",
       "      <td>0.035294</td>\n",
       "      <td>0.035294</td>\n",
       "      <td>0.05098</td>\n",
       "    </tr>\n",
       "  </tbody>\n",
       "</table>\n",
       "</div>"
      ],
      "text/plain": [
       "   Metricas       knn  Regresion lineal  Regresion logistica  Naive bayes  \\\n",
       "0  Accuracy  0.035294          0.064629             0.047059     0.047059   \n",
       "\n",
       "   Perceptron       MLP  Descenso gradiente  Arbol de decision  \\\n",
       "0    0.011765  0.035294            0.035294           0.035294   \n",
       "\n",
       "   Bosque aleatorios  \n",
       "0            0.05098  "
      ]
     },
     "execution_count": 22,
     "metadata": {},
     "output_type": "execute_result"
    }
   ],
   "source": [
    "# Ejecucion para 400m\n",
    "ddbbData = ddbb[['400m Points','400m']]\n",
    "\n",
    "X_train, X_test, y_train, y_test = train_test_split(ddbbData, ddbb['Position'], test_size=0.3)\n",
    "\n",
    "result = ejecutaAlgoritmosMachineLearning(X_train, X_test, y_train, y_test)\n",
    "listaResults.append(result)\n",
    "result"
   ]
  },
  {
   "cell_type": "code",
   "execution_count": 23,
   "metadata": {},
   "outputs": [
    {
     "data": {
      "text/html": [
       "<div>\n",
       "<style scoped>\n",
       "    .dataframe tbody tr th:only-of-type {\n",
       "        vertical-align: middle;\n",
       "    }\n",
       "\n",
       "    .dataframe tbody tr th {\n",
       "        vertical-align: top;\n",
       "    }\n",
       "\n",
       "    .dataframe thead th {\n",
       "        text-align: right;\n",
       "    }\n",
       "</style>\n",
       "<table border=\"1\" class=\"dataframe\">\n",
       "  <thead>\n",
       "    <tr style=\"text-align: right;\">\n",
       "      <th></th>\n",
       "      <th>Metricas</th>\n",
       "      <th>knn</th>\n",
       "      <th>Regresion lineal</th>\n",
       "      <th>Regresion logistica</th>\n",
       "      <th>Naive bayes</th>\n",
       "      <th>Perceptron</th>\n",
       "      <th>MLP</th>\n",
       "      <th>Descenso gradiente</th>\n",
       "      <th>Arbol de decision</th>\n",
       "      <th>Bosque aleatorios</th>\n",
       "    </tr>\n",
       "  </thead>\n",
       "  <tbody>\n",
       "    <tr>\n",
       "      <th>0</th>\n",
       "      <td>Accuracy</td>\n",
       "      <td>0.054902</td>\n",
       "      <td>0.021908</td>\n",
       "      <td>0.043137</td>\n",
       "      <td>0.031373</td>\n",
       "      <td>0.043137</td>\n",
       "      <td>0.031373</td>\n",
       "      <td>0.043137</td>\n",
       "      <td>0.043137</td>\n",
       "      <td>0.047059</td>\n",
       "    </tr>\n",
       "  </tbody>\n",
       "</table>\n",
       "</div>"
      ],
      "text/plain": [
       "   Metricas       knn  Regresion lineal  Regresion logistica  Naive bayes  \\\n",
       "0  Accuracy  0.054902          0.021908             0.043137     0.031373   \n",
       "\n",
       "   Perceptron       MLP  Descenso gradiente  Arbol de decision  \\\n",
       "0    0.043137  0.031373            0.043137           0.043137   \n",
       "\n",
       "   Bosque aleatorios  \n",
       "0           0.047059  "
      ]
     },
     "execution_count": 23,
     "metadata": {},
     "output_type": "execute_result"
    }
   ],
   "source": [
    "# Ejecucion para 110m H\n",
    "ddbbData = ddbb[['110m H','110m H Points']]\n",
    "\n",
    "X_train, X_test, y_train, y_test = train_test_split(ddbbData, ddbb['Position'], test_size=0.3)\n",
    "\n",
    "result = ejecutaAlgoritmosMachineLearning(X_train, X_test, y_train, y_test)\n",
    "listaResults.append(result)\n",
    "result"
   ]
  },
  {
   "cell_type": "code",
   "execution_count": 24,
   "metadata": {},
   "outputs": [
    {
     "data": {
      "text/html": [
       "<div>\n",
       "<style scoped>\n",
       "    .dataframe tbody tr th:only-of-type {\n",
       "        vertical-align: middle;\n",
       "    }\n",
       "\n",
       "    .dataframe tbody tr th {\n",
       "        vertical-align: top;\n",
       "    }\n",
       "\n",
       "    .dataframe thead th {\n",
       "        text-align: right;\n",
       "    }\n",
       "</style>\n",
       "<table border=\"1\" class=\"dataframe\">\n",
       "  <thead>\n",
       "    <tr style=\"text-align: right;\">\n",
       "      <th></th>\n",
       "      <th>Metricas</th>\n",
       "      <th>knn</th>\n",
       "      <th>Regresion lineal</th>\n",
       "      <th>Regresion logistica</th>\n",
       "      <th>Naive bayes</th>\n",
       "      <th>Perceptron</th>\n",
       "      <th>MLP</th>\n",
       "      <th>Descenso gradiente</th>\n",
       "      <th>Arbol de decision</th>\n",
       "      <th>Bosque aleatorios</th>\n",
       "    </tr>\n",
       "  </thead>\n",
       "  <tbody>\n",
       "    <tr>\n",
       "      <th>0</th>\n",
       "      <td>Accuracy</td>\n",
       "      <td>0.039216</td>\n",
       "      <td>0.118879</td>\n",
       "      <td>0.043137</td>\n",
       "      <td>0.058824</td>\n",
       "      <td>0.054902</td>\n",
       "      <td>0.027451</td>\n",
       "      <td>0.054902</td>\n",
       "      <td>0.062745</td>\n",
       "      <td>0.031373</td>\n",
       "    </tr>\n",
       "  </tbody>\n",
       "</table>\n",
       "</div>"
      ],
      "text/plain": [
       "   Metricas       knn  Regresion lineal  Regresion logistica  Naive bayes  \\\n",
       "0  Accuracy  0.039216          0.118879             0.043137     0.058824   \n",
       "\n",
       "   Perceptron       MLP  Descenso gradiente  Arbol de decision  \\\n",
       "0    0.054902  0.027451            0.054902           0.062745   \n",
       "\n",
       "   Bosque aleatorios  \n",
       "0           0.031373  "
      ]
     },
     "execution_count": 24,
     "metadata": {},
     "output_type": "execute_result"
    }
   ],
   "source": [
    "# Ejecucion para Dt\n",
    "ddbbData = ddbb[['Dt','Dt Points']]\n",
    "\n",
    "X_train, X_test, y_train, y_test = train_test_split(ddbbData, ddbb['Position'], test_size=0.3)\n",
    "\n",
    "result = ejecutaAlgoritmosMachineLearning(X_train, X_test, y_train, y_test)\n",
    "listaResults.append(result)\n",
    "result"
   ]
  },
  {
   "cell_type": "code",
   "execution_count": 25,
   "metadata": {},
   "outputs": [
    {
     "data": {
      "text/html": [
       "<div>\n",
       "<style scoped>\n",
       "    .dataframe tbody tr th:only-of-type {\n",
       "        vertical-align: middle;\n",
       "    }\n",
       "\n",
       "    .dataframe tbody tr th {\n",
       "        vertical-align: top;\n",
       "    }\n",
       "\n",
       "    .dataframe thead th {\n",
       "        text-align: right;\n",
       "    }\n",
       "</style>\n",
       "<table border=\"1\" class=\"dataframe\">\n",
       "  <thead>\n",
       "    <tr style=\"text-align: right;\">\n",
       "      <th></th>\n",
       "      <th>Metricas</th>\n",
       "      <th>knn</th>\n",
       "      <th>Regresion lineal</th>\n",
       "      <th>Regresion logistica</th>\n",
       "      <th>Naive bayes</th>\n",
       "      <th>Perceptron</th>\n",
       "      <th>MLP</th>\n",
       "      <th>Descenso gradiente</th>\n",
       "      <th>Arbol de decision</th>\n",
       "      <th>Bosque aleatorios</th>\n",
       "    </tr>\n",
       "  </thead>\n",
       "  <tbody>\n",
       "    <tr>\n",
       "      <th>0</th>\n",
       "      <td>Accuracy</td>\n",
       "      <td>0.062745</td>\n",
       "      <td>-0.009883</td>\n",
       "      <td>0.035294</td>\n",
       "      <td>0.035294</td>\n",
       "      <td>0.039216</td>\n",
       "      <td>0.039216</td>\n",
       "      <td>0.047059</td>\n",
       "      <td>0.047059</td>\n",
       "      <td>0.047059</td>\n",
       "    </tr>\n",
       "  </tbody>\n",
       "</table>\n",
       "</div>"
      ],
      "text/plain": [
       "   Metricas       knn  Regresion lineal  Regresion logistica  Naive bayes  \\\n",
       "0  Accuracy  0.062745         -0.009883             0.035294     0.035294   \n",
       "\n",
       "   Perceptron       MLP  Descenso gradiente  Arbol de decision  \\\n",
       "0    0.039216  0.039216            0.047059           0.047059   \n",
       "\n",
       "   Bosque aleatorios  \n",
       "0           0.047059  "
      ]
     },
     "execution_count": 25,
     "metadata": {},
     "output_type": "execute_result"
    }
   ],
   "source": [
    "# Ejecucion para Pv\n",
    "ddbbData = ddbb[['Pv','Pv Points']]\n",
    "\n",
    "X_train, X_test, y_train, y_test = train_test_split(ddbbData, ddbb['Position'], test_size=0.3)\n",
    "\n",
    "result = ejecutaAlgoritmosMachineLearning(X_train, X_test, y_train, y_test)\n",
    "listaResults.append(result)\n",
    "result"
   ]
  },
  {
   "cell_type": "code",
   "execution_count": 26,
   "metadata": {},
   "outputs": [
    {
     "data": {
      "text/html": [
       "<div>\n",
       "<style scoped>\n",
       "    .dataframe tbody tr th:only-of-type {\n",
       "        vertical-align: middle;\n",
       "    }\n",
       "\n",
       "    .dataframe tbody tr th {\n",
       "        vertical-align: top;\n",
       "    }\n",
       "\n",
       "    .dataframe thead th {\n",
       "        text-align: right;\n",
       "    }\n",
       "</style>\n",
       "<table border=\"1\" class=\"dataframe\">\n",
       "  <thead>\n",
       "    <tr style=\"text-align: right;\">\n",
       "      <th></th>\n",
       "      <th>Metricas</th>\n",
       "      <th>knn</th>\n",
       "      <th>Regresion lineal</th>\n",
       "      <th>Regresion logistica</th>\n",
       "      <th>Naive bayes</th>\n",
       "      <th>Perceptron</th>\n",
       "      <th>MLP</th>\n",
       "      <th>Descenso gradiente</th>\n",
       "      <th>Arbol de decision</th>\n",
       "      <th>Bosque aleatorios</th>\n",
       "    </tr>\n",
       "  </thead>\n",
       "  <tbody>\n",
       "    <tr>\n",
       "      <th>0</th>\n",
       "      <td>Accuracy</td>\n",
       "      <td>0.047059</td>\n",
       "      <td>0.11022</td>\n",
       "      <td>0.039216</td>\n",
       "      <td>0.047059</td>\n",
       "      <td>0.031373</td>\n",
       "      <td>0.027451</td>\n",
       "      <td>0.043137</td>\n",
       "      <td>0.070588</td>\n",
       "      <td>0.062745</td>\n",
       "    </tr>\n",
       "  </tbody>\n",
       "</table>\n",
       "</div>"
      ],
      "text/plain": [
       "   Metricas       knn  Regresion lineal  Regresion logistica  Naive bayes  \\\n",
       "0  Accuracy  0.047059           0.11022             0.039216     0.047059   \n",
       "\n",
       "   Perceptron       MLP  Descenso gradiente  Arbol de decision  \\\n",
       "0    0.031373  0.027451            0.043137           0.070588   \n",
       "\n",
       "   Bosque aleatorios  \n",
       "0           0.062745  "
      ]
     },
     "execution_count": 26,
     "metadata": {},
     "output_type": "execute_result"
    }
   ],
   "source": [
    "# Ejecucion para Jt\n",
    "ddbbData = ddbb[['Jt','Jt Points']]\n",
    "\n",
    "X_train, X_test, y_train, y_test = train_test_split(ddbbData, ddbb['Position'], test_size=0.3)\n",
    "\n",
    "result = ejecutaAlgoritmosMachineLearning(X_train, X_test, y_train, y_test)\n",
    "listaResults.append(result)\n",
    "result"
   ]
  },
  {
   "cell_type": "code",
   "execution_count": 27,
   "metadata": {},
   "outputs": [
    {
     "data": {
      "text/html": [
       "<div>\n",
       "<style scoped>\n",
       "    .dataframe tbody tr th:only-of-type {\n",
       "        vertical-align: middle;\n",
       "    }\n",
       "\n",
       "    .dataframe tbody tr th {\n",
       "        vertical-align: top;\n",
       "    }\n",
       "\n",
       "    .dataframe thead th {\n",
       "        text-align: right;\n",
       "    }\n",
       "</style>\n",
       "<table border=\"1\" class=\"dataframe\">\n",
       "  <thead>\n",
       "    <tr style=\"text-align: right;\">\n",
       "      <th></th>\n",
       "      <th>Metricas</th>\n",
       "      <th>knn</th>\n",
       "      <th>Regresion lineal</th>\n",
       "      <th>Regresion logistica</th>\n",
       "      <th>Naive bayes</th>\n",
       "      <th>Perceptron</th>\n",
       "      <th>MLP</th>\n",
       "      <th>Descenso gradiente</th>\n",
       "      <th>Arbol de decision</th>\n",
       "      <th>Bosque aleatorios</th>\n",
       "    </tr>\n",
       "  </thead>\n",
       "  <tbody>\n",
       "    <tr>\n",
       "      <th>0</th>\n",
       "      <td>Accuracy</td>\n",
       "      <td>0.058824</td>\n",
       "      <td>0.026264</td>\n",
       "      <td>0.039216</td>\n",
       "      <td>0.027451</td>\n",
       "      <td>0.039216</td>\n",
       "      <td>0.035294</td>\n",
       "      <td>0.043137</td>\n",
       "      <td>0.039216</td>\n",
       "      <td>0.043137</td>\n",
       "    </tr>\n",
       "  </tbody>\n",
       "</table>\n",
       "</div>"
      ],
      "text/plain": [
       "   Metricas       knn  Regresion lineal  Regresion logistica  Naive bayes  \\\n",
       "0  Accuracy  0.058824          0.026264             0.039216     0.027451   \n",
       "\n",
       "   Perceptron       MLP  Descenso gradiente  Arbol de decision  \\\n",
       "0    0.039216  0.035294            0.043137           0.039216   \n",
       "\n",
       "   Bosque aleatorios  \n",
       "0           0.043137  "
      ]
     },
     "execution_count": 27,
     "metadata": {},
     "output_type": "execute_result"
    }
   ],
   "source": [
    "# Ejecucion para 1500m\n",
    "ddbbData = ddbb[['1500m Points','1500m']]\n",
    "\n",
    "X_train, X_test, y_train, y_test = train_test_split(ddbbData, ddbb['Position'], test_size=0.3)\n",
    "\n",
    "result = ejecutaAlgoritmosMachineLearning(X_train, X_test, y_train, y_test)\n",
    "listaResults.append(result)\n",
    "result"
   ]
  },
  {
   "cell_type": "code",
   "execution_count": 28,
   "metadata": {},
   "outputs": [
    {
     "name": "stdout",
     "output_type": "stream",
     "text": [
      "[0.6304079438157099, 0.40863742867930397, 0.3782058684668354, 0.32799359864543115, 0.3626678515135463, 0.3591624600029465, 0.49142787073196204, 0.3430583839204366, 0.4788473024969301, 0.35175374814952837]\n"
     ]
    }
   ],
   "source": [
    "mediaPrueba = []\n",
    "\n",
    "for i in range(len(listaResults)):\n",
    "    for j in range(len(listaResults[0].iloc[0])):\n",
    "        if(j != 0):\n",
    "            mediaPrueba[i] += listaResults[i].iloc[0][j]\n",
    "        else:\n",
    "            mediaPrueba.append(0)\n",
    "\n",
    "print(mediaPrueba)"
   ]
  },
  {
   "cell_type": "markdown",
   "metadata": {},
   "source": [
    "### Las pruebas más importantes, según las medias son:\n",
    "- 100m: 0.51\n",
    "- 400m: 0.48\n",
    "- Javelin Throw: 0.56\n",
    "\n",
    "# 13.Predicciones"
   ]
  },
  {
   "cell_type": "code",
   "execution_count": 45,
   "metadata": {},
   "outputs": [
    {
     "ename": "TypeError",
     "evalue": "only integer scalar arrays can be converted to a scalar index",
     "output_type": "error",
     "traceback": [
      "\u001b[0;31m---------------------------------------------------------------------------\u001b[0m",
      "\u001b[0;31mTypeError\u001b[0m                                 Traceback (most recent call last)",
      "\u001b[0;32m<ipython-input-45-a811c911c0a8>\u001b[0m in \u001b[0;36m<module>\u001b[0;34m\u001b[0m\n\u001b[1;32m     24\u001b[0m \u001b[0my_pred\u001b[0m \u001b[0;34m=\u001b[0m \u001b[0mregL\u001b[0m\u001b[0;34m.\u001b[0m\u001b[0mpredict\u001b[0m\u001b[0;34m(\u001b[0m\u001b[0mX_test\u001b[0m\u001b[0;34m)\u001b[0m\u001b[0;34m\u001b[0m\u001b[0;34m\u001b[0m\u001b[0m\n\u001b[1;32m     25\u001b[0m \u001b[0;34m\u001b[0m\u001b[0m\n\u001b[0;32m---> 26\u001b[0;31m \u001b[0;32mfor\u001b[0m \u001b[0mi\u001b[0m \u001b[0;32min\u001b[0m \u001b[0mrange\u001b[0m\u001b[0;34m(\u001b[0m\u001b[0my_pred\u001b[0m\u001b[0;34m)\u001b[0m\u001b[0;34m:\u001b[0m\u001b[0;34m\u001b[0m\u001b[0;34m\u001b[0m\u001b[0m\n\u001b[0m\u001b[1;32m     27\u001b[0m     \u001b[0my_pred\u001b[0m\u001b[0;34m[\u001b[0m\u001b[0mi\u001b[0m\u001b[0;34m]\u001b[0m \u001b[0;34m=\u001b[0m \u001b[0mint\u001b[0m\u001b[0;34m(\u001b[0m\u001b[0my_pred\u001b[0m\u001b[0;34m[\u001b[0m\u001b[0mi\u001b[0m\u001b[0;34m]\u001b[0m\u001b[0;34m)\u001b[0m\u001b[0;34m\u001b[0m\u001b[0;34m\u001b[0m\u001b[0m\n\u001b[1;32m     28\u001b[0m \u001b[0;34m\u001b[0m\u001b[0m\n",
      "\u001b[0;31mTypeError\u001b[0m: only integer scalar arrays can be converted to a scalar index"
     ]
    }
   ],
   "source": [
    "ddbbData = ddbb[['100m', '100m Points', '400m', '400m Points', 'Jt', 'Jt Points']]\n",
    "\n",
    "#Creamos el dataset para entrenar los algoritmos\n",
    "X_train, X_test, y_train, y_test = train_test_split(ddbbData, ddbb['Position'], test_size=0.3)\n",
    "\n",
    "#Entrenamos el modelo\n",
    "ejecutaAlgoritmosMachineLearning(X_train, X_test, y_train, y_test)\n",
    "\n",
    "#Crea el dataset con los datos para las predicciones\n",
    "predictionData = pd.read_csv(\"/Github/DecatlonEstadistics/resources/testResults.csv\")\n",
    "del predictionData['Unnamed: 7']\n",
    "\n",
    "predictionData.columns = ['Athlete','100m','100m Points','400m','400m Points','Jt','Jt Points']\n",
    "\n",
    "predDataset = predictionData[['100m','100m Points','400m','400m Points','Jt','Jt Points']]\n",
    "\n",
    "X_test = predDataset\n",
    "\n",
    "#Predicciones Regresion Lineal\n",
    "regL = linear_model.LinearRegression()\n",
    "    \n",
    "regL.fit(X_train, y_train)\n",
    "    \n",
    "y_pred = regL.predict(X_test)\n",
    "\n",
    " = [int(x) for x in a]\n",
    "\n",
    "predictionData.insert(7, \"Postion Predicted\", y_pred, True)\n",
    "predictionData"
   ]
  },
  {
   "cell_type": "code",
   "execution_count": null,
   "metadata": {},
   "outputs": [],
   "source": []
  }
 ],
 "metadata": {
  "kernelspec": {
   "display_name": "Python 3",
   "language": "python",
   "name": "python3"
  },
  "language_info": {
   "codemirror_mode": {
    "name": "ipython",
    "version": 3
   },
   "file_extension": ".py",
   "mimetype": "text/x-python",
   "name": "python",
   "nbconvert_exporter": "python",
   "pygments_lexer": "ipython3",
   "version": "3.8.3"
  }
 },
 "nbformat": 4,
 "nbformat_minor": 4
}
