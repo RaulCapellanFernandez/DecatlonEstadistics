{
 "cells": [
  {
   "cell_type": "code",
   "execution_count": 1,
   "metadata": {},
   "outputs": [],
   "source": [
    "import pandas as pd\n",
    "import os.path\n",
    "\n",
    "import numpy as np\n",
    "from numpy import * \n",
    "\n",
    "import matplotlib.pyplot as plt\n",
    "%matplotlib inline\n",
    "import seaborn as sns\n",
    "\n",
    "from sklearn import preprocessing\n",
    "from sklearn import metrics\n",
    "from sklearn.model_selection import KFold\n",
    "from sklearn.model_selection import cross_val_predict\n",
    "from sklearn.model_selection import train_test_split\n",
    "from sklearn.metrics import plot_confusion_matrix\n",
    "\n",
    "from sklearn.neighbors import KNeighborsClassifier\n",
    "from sklearn import linear_model\n",
    "from sklearn.naive_bayes import GaussianNB\n",
    "from sklearn import svm\n",
    "from sklearn.tree import DecisionTreeClassifier\n",
    "from sklearn.cluster import KMeans\n",
    "from sklearn.linear_model import Perceptron\n",
    "from sklearn.neural_network import MLPClassifier\n",
    "from sklearn.linear_model import SGDClassifier\n",
    "from sklearn.ensemble import RandomForestClassifier\n",
    "from sklearn.preprocessing import scale\n",
    "from sklearn.metrics import confusion_matrix,classification_report\n",
    "from sklearn.metrics import accuracy_score, precision_score, recall_score, f1_score\n",
    "\n",
    "import warnings\n",
    "warnings.filterwarnings('ignore')"
   ]
  },
  {
   "cell_type": "markdown",
   "metadata": {},
   "source": [
    "### 1.Preparacion de los datos"
   ]
  },
  {
   "cell_type": "markdown",
   "metadata": {},
   "source": [
    "#### Lee el dataset que generamos anteriormente "
   ]
  },
  {
   "cell_type": "code",
   "execution_count": 2,
   "metadata": {},
   "outputs": [],
   "source": [
    "#Lee el excel generado en el otro documento .ipynb\n",
    "path = \"../DecatlonEstadistics/resources/data.xlsx\"\n",
    "norm_path = os.path.normpath(path) \n",
    "ddbb = pd.read_excel(norm_path)\n",
    "\n",
    "del ddbb['1500m NF']\n",
    "\n",
    "ddbb['Country']=ddbb['Country'].str.lower()\n",
    "\n",
    "ddbb.columns = ['Position', 'Athlete', 'Age', 'Country', 'Total Points', 'Year', 'Competition', '100m', \n",
    "                 '100m Points', 'Lj', 'Lj Points', 'Sp', 'Sp Points', 'Hj', 'Hj Points', '400m', '400m Points', \n",
    "                 '110m H', '110m H Points', 'Dt', 'Dt Points', 'Pv', 'Pv Points', 'Jt', 'Jt Points', \n",
    "                 '1500m Points', '1500m']\n",
    "\n",
    "ddbbData = ddbb[['100m','100m Points','Lj','Lj Points','Sp','Sp Points','Hj','Hj Points','400m Points','400m',\n",
    "                 '110m H','110m H Points','Dt','Dt Points','Pv','Pv Points','Jt','Jt Points','1500m Points','1500m']]\n"
   ]
  },
  {
   "cell_type": "markdown",
   "metadata": {},
   "source": [
    "#### Normaliza los datos del dataset entre [0,1]"
   ]
  },
  {
   "cell_type": "code",
   "execution_count": 3,
   "metadata": {},
   "outputs": [],
   "source": [
    "#Normaliza los datos\n",
    "normalizer = preprocessing.MinMaxScaler()\n",
    "ddbbNormalized = normalizer.fit_transform(ddbbData)\n",
    "\n",
    "#Introduce los datos normalizados en un nuevo en un dataframe\n",
    "ddbbDataNorm = pd.DataFrame(ddbbNormalized)\n",
    "ddbbDataNorm.columns  = ['100m','100m Points','Lj','Lj Points','Sp','Sp Points','Hj','Hj Points','400m Points','400m','110m H',\n",
    "                '110m H Points','Dt','Dt Points','Pv','Pv Points','Jt','Jt Points','1500m Points','1500m']"
   ]
  },
  {
   "cell_type": "markdown",
   "metadata": {},
   "source": [
    "#### Algoritmos y metricas que se van a estudiar"
   ]
  },
  {
   "cell_type": "code",
   "execution_count": 4,
   "metadata": {},
   "outputs": [],
   "source": [
    "metricas = {\n",
    "    'Accuracy': metrics.accuracy_score,\n",
    "    'MAE':  metrics.mean_absolute_error,\n",
    "    'RMSE': metrics.mean_squared_error,\n",
    "    #Actualmente esta funcion solo esta incluida en versiones no estables de la libreria ScikitLearn, por eso se crea esta funcion\n",
    "    'MAPE': lambda y, y_pred:\n",
    "          np.mean(np.abs((y - y_pred) / y)) * 100,\n",
    "}"
   ]
  },
  {
   "cell_type": "code",
   "execution_count": 5,
   "metadata": {},
   "outputs": [],
   "source": [
    "#Diccionario con los algoritmos que se van a estudiar\n",
    "algoritmos = {\n",
    "    'KNN': KNeighborsClassifier(n_neighbors=5),\n",
    "    #'REGLI': linear_model.LinearRegression(),\n",
    "    'REGLO': linear_model.LogisticRegression(random_state=42),\n",
    "    'GNB': GaussianNB(),\n",
    "    #'KMEANS': KMeans(n_clusters=1 , random_state= 5),\n",
    "    'PERCEPTRON': Perceptron(tol=1e-5, random_state=1),\n",
    "    'MLP': MLPClassifier(solver='lbfgs', alpha=1e-5,hidden_layer_sizes=(5, 2), random_state=1),\n",
    "    #'SVM': svm.SVC(kernel='linear'),\n",
    "    'DESGRA': SGDClassifier(loss=\"hinge\", penalty=\"l2\"),\n",
    "    'ARBOL': DecisionTreeClassifier(criterion=\"entropy\", max_depth=5),\n",
    "    'BOSQUE': RandomForestClassifier(n_estimators=100)\n",
    "}"
   ]
  },
  {
   "cell_type": "code",
   "execution_count": 6,
   "metadata": {},
   "outputs": [],
   "source": [
    "algoritmosClust = {\n",
    "    \n",
    "}"
   ]
  },
  {
   "cell_type": "code",
   "execution_count": 7,
   "metadata": {},
   "outputs": [],
   "source": [
    "algoritmosIA = {\n",
    "    \n",
    "}"
   ]
  },
  {
   "cell_type": "markdown",
   "metadata": {},
   "source": [
    "### 4.Hold Out"
   ]
  },
  {
   "cell_type": "markdown",
   "metadata": {},
   "source": [
    "#### Metricas para los diferentes algoritmos -> Separacion de datos HoldOut"
   ]
  },
  {
   "cell_type": "markdown",
   "metadata": {},
   "source": [
    "Funcion que genera las etiquetas predecidas para los diferentes algoritmos"
   ]
  },
  {
   "cell_type": "code",
   "execution_count": 8,
   "metadata": {},
   "outputs": [],
   "source": [
    "#Funcion que genera predicciones para casos de test en función de la separación hecha por holdOut\n",
    "def generaModelosHO(nombre,X_train, X_test, y_train, y_test):\n",
    "    \n",
    "    #Estudia el algoritmo pasado\n",
    "    algoritmo = algoritmos[nombre]\n",
    "\n",
    "    #Entrena el modelo\n",
    "    algoritmo.fit(X_train, y_train)\n",
    "\n",
    "    #Predice para los datos de test\n",
    "    y_pred = algoritmo.predict(X_test)\n",
    "    \n",
    "    #Devuelve el las predicciones para los casos de test\n",
    "    return(y_pred)"
   ]
  },
  {
   "cell_type": "markdown",
   "metadata": {},
   "source": [
    "Funcion que devuelve para un algoritmo (Se le pasa las etiquetas reales y las generadas por el algoritmo) dado todas sus metricas.\n",
    "\n",
    "Se usa tanto para Hold Out como Cross Validation"
   ]
  },
  {
   "cell_type": "code",
   "execution_count": 9,
   "metadata": {},
   "outputs": [],
   "source": [
    "#Funcion para la evaluacion de las diferentes metricas\n",
    "def evaluaMetricas(y_test, y_pred):\n",
    "    resultado = {}\n",
    "    for nombre, funcion in metricas.items():\n",
    "        resultado[nombre] = funcion(y_test, y_pred)\n",
    "    return resultado"
   ]
  },
  {
   "cell_type": "markdown",
   "metadata": {},
   "source": [
    "Funcion que devuelve el resultado de las metricas para los algoritmos definidos en la parte superior"
   ]
  },
  {
   "cell_type": "code",
   "execution_count": 10,
   "metadata": {},
   "outputs": [],
   "source": [
    "def mainHoldOut(ddbbData):\n",
    "    y_pred = {}\n",
    "    X_train, X_test, y_train, y_test = train_test_split(ddbbData, ddbb['Position'], test_size=0.3, random_state=42)\n",
    "\n",
    "    for nombre, funcion in algoritmos.items():\n",
    "        y_pred[nombre] = generaModelosHO(nombre,X_train, X_test, y_train, y_test)\n",
    "        \n",
    "    resultado = {}\n",
    "    for nombre, funcionA in algoritmos.items():\n",
    "        resultado[nombre] = evaluaMetricas(y_test, y_pred[nombre])\n",
    "    \n",
    "    #Tabla de metricas para los algoritmos estudiados\n",
    "    return resultado"
   ]
  },
  {
   "cell_type": "markdown",
   "metadata": {},
   "source": [
    "### 5.Cross Validation"
   ]
  },
  {
   "cell_type": "markdown",
   "metadata": {},
   "source": [
    "#### Metricas para los diferentes algoritmos -> Separacion de datos CrossValidation"
   ]
  },
  {
   "cell_type": "code",
   "execution_count": 11,
   "metadata": {},
   "outputs": [],
   "source": [
    "def generaModelosCV(funcion, ddbbData):\n",
    "    y_pred = cross_val_predict(funcion, ddbbData, ddbb['Position'], cv=KFold(n_splits=10,random_state=42,shuffle=True))\n",
    "    \n",
    "    return y_pred"
   ]
  },
  {
   "cell_type": "code",
   "execution_count": 12,
   "metadata": {},
   "outputs": [],
   "source": [
    "def mainCrossVal(ddbbData):\n",
    "    y_pred = {}\n",
    "\n",
    "    for nombre, funcion in algoritmos.items():\n",
    "        y_pred[nombre] = generaModelosCV(funcion, ddbbData)\n",
    "        \n",
    "    resultado = {}\n",
    "    for nombre, funcionA in algoritmos.items():\n",
    "        resultado[nombre] = evaluaMetricas(ddbb['Position'], y_pred[nombre])\n",
    "    \n",
    "    #Tabla de metricas para los algoritmos estudiados\n",
    "    return resultado"
   ]
  },
  {
   "cell_type": "markdown",
   "metadata": {},
   "source": [
    "### 6.Comparativas de las metricas"
   ]
  },
  {
   "cell_type": "markdown",
   "metadata": {},
   "source": [
    "#### Resultados de las metricas para HoldOut y CrossValidation de cada prueba"
   ]
  },
  {
   "cell_type": "code",
   "execution_count": null,
   "metadata": {},
   "outputs": [],
   "source": []
  }
 ],
 "metadata": {
  "kernelspec": {
   "display_name": "Python 3",
   "language": "python",
   "name": "python3"
  },
  "language_info": {
   "codemirror_mode": {
    "name": "ipython",
    "version": 3
   },
   "file_extension": ".py",
   "mimetype": "text/x-python",
   "name": "python",
   "nbconvert_exporter": "python",
   "pygments_lexer": "ipython3",
   "version": "3.7.6"
  }
 },
 "nbformat": 4,
 "nbformat_minor": 4
}
