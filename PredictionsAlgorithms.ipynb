{
 "cells": [
  {
   "cell_type": "markdown",
   "metadata": {},
   "source": [
    "# Parte 3: Estudio de diferentes algoritmos de machine learning"
   ]
  },
  {
   "cell_type": "markdown",
   "metadata": {},
   "source": [
    "En este notebook vamos a aplicar diferentes algoritmos para estudiar su efectividad para este problema e intentaremos predicciones para los Juegos Olímpicos de 2021.\n",
    "\n",
    "Los algoritmos que se aplican son: \n",
    "* Matriz de confusión\n",
    "* Datos de entrenamiento y datos de test\n",
    "* Knn - Vecinos cercanos\n",
    "* Regresión Lineal\n",
    "* Regresión Logística\n",
    "* Naive Bayes\n",
    "* Gaussian Naive Bayes\n",
    "* K-means\n",
    "* Perceptron\n",
    "* MLP - Multi layer perceptron\n",
    "* Decision Tree\n",
    "* SVM - Supervised Vector Machine\n",
    "* Descenso del gradiente\n",
    "* Random Forest\n",
    "* ¿¿RED NEURONAL??"
   ]
  },
  {
   "cell_type": "code",
   "execution_count": 1,
   "metadata": {},
   "outputs": [],
   "source": [
    "import pandas as pd\n",
    "\n",
    "import numpy as np\n",
    "from numpy import * \n",
    "\n",
    "import matplotlib.pyplot as plt\n",
    "%matplotlib inline\n",
    "import seaborn as sns\n",
    "\n",
    "from sklearn import metrics\n",
    "from sklearn.model_selection import train_test_split\n",
    "from sklearn.metrics import plot_confusion_matrix\n",
    "\n",
    "from sklearn.neighbors import KNeighborsClassifier\n",
    "from sklearn import linear_model\n",
    "from sklearn.naive_bayes import GaussianNB\n",
    "from sklearn import svm\n",
    "from sklearn.tree import DecisionTreeClassifier\n",
    "from sklearn.cluster import KMeans\n",
    "from sklearn.linear_model import Perceptron\n",
    "from sklearn.neural_network import MLPClassifier\n",
    "from sklearn.linear_model import SGDClassifier\n",
    "from sklearn.ensemble import RandomForestClassifier\n",
    "from sklearn.metrics import accuracy_score, precision_score, recall_score, f1_score\n",
    "\n",
    "import warnings\n",
    "warnings.filterwarnings('ignore')"
   ]
  },
  {
   "cell_type": "code",
   "execution_count": 2,
   "metadata": {},
   "outputs": [],
   "source": [
    "#Lee el excel generado en el otro documento .ipynb\n",
    "ddbb=pd.read_excel(\"/Github/DecatlonEstadistics/resources/data.xlsx\")\n",
    "del ddbb['1500m NF']\n",
    "\n",
    "ddbb['Country']=ddbb['Country'].str.lower()\n",
    "\n",
    "ddbb.columns = ['Position', 'Athlete', 'Age', 'Country', 'Total Points', 'Year', 'Competition', '100m', \n",
    "                 '100m Points', 'Lj', 'Lj Points', 'Sp', 'Sp Points', 'Hj', 'Hj Points', '400m', '400m Points', \n",
    "                 '110m H', '110m H Points', 'Dt', 'Dt Points', 'Pv', 'Pv Points', 'Jt', 'Jt Points', \n",
    "                 '1500m Points', '1500m']"
   ]
  },
  {
   "cell_type": "markdown",
   "metadata": {},
   "source": [
    "## 0. Matriz de confusión"
   ]
  },
  {
   "cell_type": "code",
   "execution_count": 3,
   "metadata": {},
   "outputs": [],
   "source": [
    "def metricasAlgorithms(y_test, y_pred):\n",
    "    metricas = []\n",
    "    \n",
    "    metricas.append(accuracy_score(y_test, y_pred))\n",
    "    metricas.append(precision_score(y_test, y_pred, average='micro'))\n",
    "    metricas.append(recall_score(y_test, y_pred, average='micro'))\n",
    "    metricas.append(f1_score(y_test, y_pred, average='micro'))\n",
    "\n",
    "    metricas.append(precision_score(y_test, y_pred, average='macro'))\n",
    "    metricas.append(recall_score(y_test, y_pred, average='macro'))\n",
    "    metricas.append(f1_score(y_test, y_pred, average='macro'))\n",
    "\n",
    "    metricas.append(precision_score(y_test, y_pred, average='weighted'))\n",
    "    metricas.append(recall_score(y_test, y_pred, average='weighted'))\n",
    "    metricas.append(f1_score(y_test, y_pred, average='weighted'))\n",
    "    \n",
    "    return metricas\n",
    "\n",
    "def metricasAlgorithmsRegl(X_test, y_test, regL):\n",
    "    metricas = []\n",
    "    \n",
    "    metricas.append(regL.score(X_test,y_test))\n",
    "    metricas.append(0)\n",
    "    metricas.append(0)\n",
    "    metricas.append(0)\n",
    "    metricas.append(0)\n",
    "    metricas.append(0)\n",
    "    metricas.append(0)\n",
    "    metricas.append(0)\n",
    "    metricas.append(0)\n",
    "    metricas.append(0)\n",
    "    \n",
    "    return metricas"
   ]
  },
  {
   "cell_type": "markdown",
   "metadata": {},
   "source": [
    "## 1. Datos de entrenamiento y datos de test."
   ]
  },
  {
   "cell_type": "markdown",
   "metadata": {},
   "source": [
    "Los datos se entrenan en función a todas las pruebas resultantes y se clasifican en función a la posición obtenida.\n",
    "El 70% de los datos se utilizan para entrenamiento.\n",
    "El 30% restante se utiliza para tests."
   ]
  },
  {
   "cell_type": "code",
   "execution_count": 4,
   "metadata": {},
   "outputs": [],
   "source": [
    "ddbbData = ddbb[['100m','100m Points','Lj','Lj Points','Sp','Sp Points','Hj','Hj Points','400m Points','400m',\n",
    "                 '110m H','110m H Points','Dt','Dt Points','Pv','Pv Points','Jt','Jt Points','1500m Points','1500m']]\n",
    "\n",
    "X_train, X_test, y_train, y_test = train_test_split(ddbbData, ddbb['Position'], test_size=0.3)"
   ]
  },
  {
   "cell_type": "markdown",
   "metadata": {},
   "source": [
    "## 2. Vecinos Cercanos"
   ]
  },
  {
   "cell_type": "code",
   "execution_count": 5,
   "metadata": {},
   "outputs": [],
   "source": [
    "def knnFunction(X_train, X_test, y_train, y_test):\n",
    "    \n",
    "    knn = KNeighborsClassifier(n_neighbors=5)\n",
    "\n",
    "    #Entrena el modelo\n",
    "    knn.fit(X_train, y_train)\n",
    "\n",
    "    #Predice para los datos de test\n",
    "    y_pred = knn.predict(X_test)\n",
    "    \n",
    "    vector = metricasAlgorithms(y_test, y_pred)\n",
    "    \n",
    "    return(vector)"
   ]
  },
  {
   "cell_type": "markdown",
   "metadata": {},
   "source": [
    "## 3. Regresión Lineal"
   ]
  },
  {
   "cell_type": "code",
   "execution_count": 6,
   "metadata": {},
   "outputs": [],
   "source": [
    "def RegLinealFunction(X_train, X_test, y_train, y_test):\n",
    "    \n",
    "    regL = linear_model.LinearRegression()\n",
    "    \n",
    "    regL.fit(X_train, y_train)\n",
    "    \n",
    "    y_pred = regL.predict(X_test)\n",
    "    \n",
    "    return metricasAlgorithmsRegl(X_test, y_test, regL)"
   ]
  },
  {
   "cell_type": "markdown",
   "metadata": {},
   "source": [
    "## 4. Regresión Logística"
   ]
  },
  {
   "cell_type": "code",
   "execution_count": 7,
   "metadata": {},
   "outputs": [],
   "source": [
    "def RegLogisFunction(X_train, X_test, y_train, y_test):\n",
    "    \n",
    "    logreg = linear_model.LogisticRegression(random_state=0)\n",
    "\n",
    "    logreg.fit(X_train, y_train)\n",
    "\n",
    "    y_pred = logreg.predict(X_test)\n",
    "    \n",
    "    return metricasAlgorithms(y_test, y_pred)"
   ]
  },
  {
   "cell_type": "markdown",
   "metadata": {},
   "source": [
    "## 5. Naive Bayes"
   ]
  },
  {
   "cell_type": "code",
   "execution_count": 8,
   "metadata": {},
   "outputs": [],
   "source": [
    "def NaiveBayesFunction(X_train, X_test, y_train, y_test):\n",
    "    \n",
    "    gnb = GaussianNB()\n",
    "\n",
    "    gnb.fit(X_train, y_train)\n",
    "\n",
    "    y_pred = gnb.predict(X_test)\n",
    "\n",
    "    metricasAlgorithms(y_test, y_pred)\n",
    "    \n",
    "    return metricasAlgorithms(y_test, y_pred)"
   ]
  },
  {
   "cell_type": "markdown",
   "metadata": {},
   "source": [
    "##  6. K-Means"
   ]
  },
  {
   "cell_type": "code",
   "execution_count": 9,
   "metadata": {},
   "outputs": [],
   "source": [
    "kmeans = KMeans(n_clusters=2)\n",
    "\n",
    "kmeans = KMeans(n_clusters=5).fit(ddbbData)\n",
    "centroids = kmeans.cluster_centers_\n",
    "#print(centroids)"
   ]
  },
  {
   "cell_type": "markdown",
   "metadata": {},
   "source": [
    "## 7. Perceptron"
   ]
  },
  {
   "cell_type": "code",
   "execution_count": 10,
   "metadata": {},
   "outputs": [],
   "source": [
    "def PerceptronFunction(X_train, X_test, y_train, y_test):\n",
    "    \n",
    "    percep = Perceptron(tol=1e-5, random_state=1)\n",
    "\n",
    "    percep.fit(X_train, y_train)\n",
    "\n",
    "    y_pred = percep.predict(X_test)\n",
    "\n",
    "    metricasAlgorithms(y_test, y_pred)\n",
    "    \n",
    "    return metricasAlgorithms(y_test, y_pred)"
   ]
  },
  {
   "cell_type": "markdown",
   "metadata": {},
   "source": [
    "## 8. MLP- Perceptron Multi Capa"
   ]
  },
  {
   "cell_type": "code",
   "execution_count": 11,
   "metadata": {},
   "outputs": [],
   "source": [
    "def MLPFunction(X_train, X_test, y_train, y_test):\n",
    "\n",
    "    mlp = MLPClassifier(solver='lbfgs', alpha=1e-5,hidden_layer_sizes=(5, 2), random_state=1)\n",
    "\n",
    "    mlp.fit(X_train, y_train)\n",
    "\n",
    "    y_pred = mlp.predict(X_test)\n",
    "\n",
    "    metricasAlgorithms(y_test, y_pred)\n",
    "    \n",
    "    return metricasAlgorithms(y_test, y_pred)"
   ]
  },
  {
   "cell_type": "markdown",
   "metadata": {},
   "source": [
    "## 9. SVM - Supervised Vector Machine"
   ]
  },
  {
   "cell_type": "code",
   "execution_count": 12,
   "metadata": {},
   "outputs": [],
   "source": [
    "def SVMFunction(X_train, X_test, y_train, y_test):\n",
    "\n",
    "    clf = svm.SVC(kernel='linear')\n",
    "\n",
    "    clf.fit(X_train, y_train)\n",
    "\n",
    "    y_pred = clf.predict(X_test)\n",
    "\n",
    "    metricasAlgorithms(y_test, y_pred)\n",
    "\n",
    "    return metricasAlgorithms(y_test, y_pred)"
   ]
  },
  {
   "cell_type": "markdown",
   "metadata": {},
   "source": [
    "## 10. Descenso del gradiente"
   ]
  },
  {
   "cell_type": "code",
   "execution_count": 13,
   "metadata": {},
   "outputs": [],
   "source": [
    "def DescensoGradFunction(X_train, X_test, y_train, y_test):\n",
    "\n",
    "    dGrad = SGDClassifier(loss=\"hinge\", penalty=\"l2\")\n",
    "\n",
    "    dGrad.fit(X_train, y_train)\n",
    "\n",
    "    y_pred = dGrad.predict(X_test)\n",
    "\n",
    "    metricasAlgorithms(y_test, y_pred)\n",
    "\n",
    "    return metricasAlgorithms(y_test, y_pred)"
   ]
  },
  {
   "cell_type": "markdown",
   "metadata": {},
   "source": [
    "## 11. Arbol de decision"
   ]
  },
  {
   "cell_type": "code",
   "execution_count": 14,
   "metadata": {},
   "outputs": [],
   "source": [
    "def ArbolDecFunction(X_train, X_test, y_train, y_test):\n",
    "\n",
    "    clf = DecisionTreeClassifier(criterion=\"entropy\", max_depth=3)\n",
    "\n",
    "    clf = clf.fit(X_train,y_train)\n",
    "\n",
    "    y_pred = clf.predict(X_test)\n",
    "\n",
    "    metricasAlgorithms(y_test, y_pred)\n",
    "    \n",
    "    return metricasAlgorithms(y_test, y_pred)"
   ]
  },
  {
   "cell_type": "markdown",
   "metadata": {},
   "source": [
    "## 12. Random Forest"
   ]
  },
  {
   "cell_type": "code",
   "execution_count": 15,
   "metadata": {},
   "outputs": [],
   "source": [
    "def BosqueAlFunction(X_train, X_test, y_train, y_test):\n",
    "\n",
    "    rForest=RandomForestClassifier(n_estimators=100)\n",
    "\n",
    "    rForest.fit(X_train,y_train)\n",
    "\n",
    "    y_pred=rForest.predict(X_test)\n",
    "\n",
    "    metricasAlgorithms(y_test, y_pred)\n",
    "\n",
    "    return metricasAlgorithms(y_test, y_pred)"
   ]
  },
  {
   "cell_type": "code",
   "execution_count": 16,
   "metadata": {},
   "outputs": [],
   "source": [
    "knn = knnFunction(X_train, X_test, y_train, y_test)\n",
    "RegLin = RegLinealFunction(X_train, X_test, y_train, y_test)\n",
    "RegLog = RegLogisFunction(X_train, X_test, y_train, y_test)\n",
    "NBayes = NaiveBayesFunction(X_train, X_test, y_train, y_test)\n",
    "Percep = PerceptronFunction(X_train, X_test, y_train, y_test)\n",
    "DGrad = DescensoGradFunction(X_train, X_test, y_train, y_test)\n",
    "ADecis = ArbolDecFunction(X_train, X_test, y_train, y_test)\n",
    "BAleatorio = BosqueAlFunction(X_train, X_test, y_train, y_test)\n",
    "dataFrameDatos = pd.DataFrame({\n",
    "                                'Metricas': ['Accuracy Micro','Precision Micro','Recall Micro','F1 Micro',\n",
    "                                             'Precision Macro','Recall Macro','F1 Macro','Precision Weigthed',\n",
    "                                             'Recall Weigthed','F1 Weigthed'],\n",
    "                                'knn': knn,\n",
    "                                'Regresion lineal': RegLin,\n",
    "                                'Regresion logistica': RegLog,\n",
    "                                'Naive bayes': NBayes,\n",
    "                                'Perceptron': Percep,\n",
    "                                'MLP': MLPFunction(X_train, X_test, y_train, y_test),\n",
    "                                'SVM': SVMFunction(X_train, X_test, y_train, y_test),\n",
    "                                'Descenso gradiente': DGrad,\n",
    "                                'Arbol de decision': ADecis,\n",
    "                                'Bosque aleatorios': BAleatorio \n",
    "                            })\n"
   ]
  },
  {
   "cell_type": "code",
   "execution_count": 17,
   "metadata": {},
   "outputs": [
    {
     "data": {
      "text/html": [
       "<div>\n",
       "<style scoped>\n",
       "    .dataframe tbody tr th:only-of-type {\n",
       "        vertical-align: middle;\n",
       "    }\n",
       "\n",
       "    .dataframe tbody tr th {\n",
       "        vertical-align: top;\n",
       "    }\n",
       "\n",
       "    .dataframe thead th {\n",
       "        text-align: right;\n",
       "    }\n",
       "</style>\n",
       "<table border=\"1\" class=\"dataframe\">\n",
       "  <thead>\n",
       "    <tr style=\"text-align: right;\">\n",
       "      <th></th>\n",
       "      <th>Metricas</th>\n",
       "      <th>knn</th>\n",
       "      <th>Regresion lineal</th>\n",
       "      <th>Regresion logistica</th>\n",
       "      <th>Naive bayes</th>\n",
       "      <th>Perceptron</th>\n",
       "      <th>MLP</th>\n",
       "      <th>Descenso gradiente</th>\n",
       "      <th>Arbol de decision</th>\n",
       "      <th>Bosque aleatorios</th>\n",
       "    </tr>\n",
       "  </thead>\n",
       "  <tbody>\n",
       "    <tr>\n",
       "      <th>0</th>\n",
       "      <td>Accuracy Micro</td>\n",
       "      <td>0.109804</td>\n",
       "      <td>0.466907</td>\n",
       "      <td>0.050980</td>\n",
       "      <td>0.066667</td>\n",
       "      <td>0.039216</td>\n",
       "      <td>0.035294</td>\n",
       "      <td>0.047059</td>\n",
       "      <td>0.054902</td>\n",
       "      <td>0.086275</td>\n",
       "    </tr>\n",
       "    <tr>\n",
       "      <th>1</th>\n",
       "      <td>Precision Micro</td>\n",
       "      <td>0.109804</td>\n",
       "      <td>0.000000</td>\n",
       "      <td>0.050980</td>\n",
       "      <td>0.066667</td>\n",
       "      <td>0.039216</td>\n",
       "      <td>0.035294</td>\n",
       "      <td>0.047059</td>\n",
       "      <td>0.054902</td>\n",
       "      <td>0.086275</td>\n",
       "    </tr>\n",
       "    <tr>\n",
       "      <th>2</th>\n",
       "      <td>Recall Micro</td>\n",
       "      <td>0.109804</td>\n",
       "      <td>0.000000</td>\n",
       "      <td>0.050980</td>\n",
       "      <td>0.066667</td>\n",
       "      <td>0.039216</td>\n",
       "      <td>0.035294</td>\n",
       "      <td>0.047059</td>\n",
       "      <td>0.054902</td>\n",
       "      <td>0.086275</td>\n",
       "    </tr>\n",
       "    <tr>\n",
       "      <th>3</th>\n",
       "      <td>F1 Micro</td>\n",
       "      <td>0.109804</td>\n",
       "      <td>0.000000</td>\n",
       "      <td>0.050980</td>\n",
       "      <td>0.066667</td>\n",
       "      <td>0.039216</td>\n",
       "      <td>0.035294</td>\n",
       "      <td>0.047059</td>\n",
       "      <td>0.054902</td>\n",
       "      <td>0.086275</td>\n",
       "    </tr>\n",
       "    <tr>\n",
       "      <th>4</th>\n",
       "      <td>Precision Macro</td>\n",
       "      <td>0.060630</td>\n",
       "      <td>0.000000</td>\n",
       "      <td>0.027995</td>\n",
       "      <td>0.034283</td>\n",
       "      <td>0.004627</td>\n",
       "      <td>0.001109</td>\n",
       "      <td>0.002672</td>\n",
       "      <td>0.018128</td>\n",
       "      <td>0.055505</td>\n",
       "    </tr>\n",
       "    <tr>\n",
       "      <th>5</th>\n",
       "      <td>Recall Macro</td>\n",
       "      <td>0.069008</td>\n",
       "      <td>0.000000</td>\n",
       "      <td>0.041682</td>\n",
       "      <td>0.052510</td>\n",
       "      <td>0.028711</td>\n",
       "      <td>0.030303</td>\n",
       "      <td>0.033884</td>\n",
       "      <td>0.033670</td>\n",
       "      <td>0.051743</td>\n",
       "    </tr>\n",
       "    <tr>\n",
       "      <th>6</th>\n",
       "      <td>F1 Macro</td>\n",
       "      <td>0.056454</td>\n",
       "      <td>0.000000</td>\n",
       "      <td>0.031735</td>\n",
       "      <td>0.034901</td>\n",
       "      <td>0.007848</td>\n",
       "      <td>0.002139</td>\n",
       "      <td>0.004935</td>\n",
       "      <td>0.022109</td>\n",
       "      <td>0.051881</td>\n",
       "    </tr>\n",
       "    <tr>\n",
       "      <th>7</th>\n",
       "      <td>Precision Weigthed</td>\n",
       "      <td>0.090623</td>\n",
       "      <td>0.000000</td>\n",
       "      <td>0.036692</td>\n",
       "      <td>0.047994</td>\n",
       "      <td>0.006168</td>\n",
       "      <td>0.001291</td>\n",
       "      <td>0.003675</td>\n",
       "      <td>0.031190</td>\n",
       "      <td>0.095793</td>\n",
       "    </tr>\n",
       "    <tr>\n",
       "      <th>8</th>\n",
       "      <td>Recall Weigthed</td>\n",
       "      <td>0.109804</td>\n",
       "      <td>0.000000</td>\n",
       "      <td>0.050980</td>\n",
       "      <td>0.066667</td>\n",
       "      <td>0.039216</td>\n",
       "      <td>0.035294</td>\n",
       "      <td>0.047059</td>\n",
       "      <td>0.054902</td>\n",
       "      <td>0.086275</td>\n",
       "    </tr>\n",
       "    <tr>\n",
       "      <th>9</th>\n",
       "      <td>F1 Weigthed</td>\n",
       "      <td>0.087980</td>\n",
       "      <td>0.000000</td>\n",
       "      <td>0.040273</td>\n",
       "      <td>0.047633</td>\n",
       "      <td>0.010510</td>\n",
       "      <td>0.002491</td>\n",
       "      <td>0.006795</td>\n",
       "      <td>0.037868</td>\n",
       "      <td>0.088217</td>\n",
       "    </tr>\n",
       "  </tbody>\n",
       "</table>\n",
       "</div>"
      ],
      "text/plain": [
       "             Metricas       knn  Regresion lineal  Regresion logistica  \\\n",
       "0      Accuracy Micro  0.109804          0.466907             0.050980   \n",
       "1     Precision Micro  0.109804          0.000000             0.050980   \n",
       "2        Recall Micro  0.109804          0.000000             0.050980   \n",
       "3            F1 Micro  0.109804          0.000000             0.050980   \n",
       "4     Precision Macro  0.060630          0.000000             0.027995   \n",
       "5        Recall Macro  0.069008          0.000000             0.041682   \n",
       "6            F1 Macro  0.056454          0.000000             0.031735   \n",
       "7  Precision Weigthed  0.090623          0.000000             0.036692   \n",
       "8     Recall Weigthed  0.109804          0.000000             0.050980   \n",
       "9         F1 Weigthed  0.087980          0.000000             0.040273   \n",
       "\n",
       "   Naive bayes  Perceptron       MLP  Descenso gradiente  Arbol de decision  \\\n",
       "0     0.066667    0.039216  0.035294            0.047059           0.054902   \n",
       "1     0.066667    0.039216  0.035294            0.047059           0.054902   \n",
       "2     0.066667    0.039216  0.035294            0.047059           0.054902   \n",
       "3     0.066667    0.039216  0.035294            0.047059           0.054902   \n",
       "4     0.034283    0.004627  0.001109            0.002672           0.018128   \n",
       "5     0.052510    0.028711  0.030303            0.033884           0.033670   \n",
       "6     0.034901    0.007848  0.002139            0.004935           0.022109   \n",
       "7     0.047994    0.006168  0.001291            0.003675           0.031190   \n",
       "8     0.066667    0.039216  0.035294            0.047059           0.054902   \n",
       "9     0.047633    0.010510  0.002491            0.006795           0.037868   \n",
       "\n",
       "   Bosque aleatorios  \n",
       "0           0.086275  \n",
       "1           0.086275  \n",
       "2           0.086275  \n",
       "3           0.086275  \n",
       "4           0.055505  \n",
       "5           0.051743  \n",
       "6           0.051881  \n",
       "7           0.095793  \n",
       "8           0.086275  \n",
       "9           0.088217  "
      ]
     },
     "execution_count": 17,
     "metadata": {},
     "output_type": "execute_result"
    }
   ],
   "source": [
    "dataFrameDatos"
   ]
  },
  {
   "cell_type": "code",
   "execution_count": null,
   "metadata": {},
   "outputs": [],
   "source": []
  },
  {
   "cell_type": "code",
   "execution_count": null,
   "metadata": {},
   "outputs": [],
   "source": []
  },
  {
   "cell_type": "code",
   "execution_count": null,
   "metadata": {},
   "outputs": [],
   "source": []
  },
  {
   "cell_type": "code",
   "execution_count": null,
   "metadata": {},
   "outputs": [],
   "source": []
  }
 ],
 "metadata": {
  "kernelspec": {
   "display_name": "Python 3",
   "language": "python",
   "name": "python3"
  },
  "language_info": {
   "codemirror_mode": {
    "name": "ipython",
    "version": 3
   },
   "file_extension": ".py",
   "mimetype": "text/x-python",
   "name": "python",
   "nbconvert_exporter": "python",
   "pygments_lexer": "ipython3",
   "version": "3.8.3"
  }
 },
 "nbformat": 4,
 "nbformat_minor": 4
}
