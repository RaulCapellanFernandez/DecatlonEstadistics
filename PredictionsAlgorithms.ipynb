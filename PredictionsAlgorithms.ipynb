{
 "cells": [
  {
   "cell_type": "markdown",
   "metadata": {},
   "source": [
    "# Parte 3: Estudio de diferentes algoritmos de machine learning"
   ]
  },
  {
   "cell_type": "markdown",
   "metadata": {},
   "source": [
    "En este notebook vamos a aplicar diferentes algoritmos para estudiar su efectividad para este problema e intentaremos predicciones para los Juegos Olímpicos de 2021.\n",
    "\n",
    "Los algoritmos que se aplican son: \n",
    "* Matriz de confusión\n",
    "* Datos de entrenamiento y datos de test\n",
    "* Knn - Vecinos cercanos\n",
    "* Regresión Lineal\n",
    "* Regresión Logística\n",
    "* Naive Bayes\n",
    "* Gaussian Naive Bayes\n",
    "* K-means\n",
    "* Perceptron\n",
    "* MLP - Multi layer perceptron\n",
    "* Decision Tree\n",
    "* SVM - Supervised Vector Machine\n",
    "* Descenso del gradiente\n",
    "* Random Forest\n",
    "* ¿¿RED NEURONAL??"
   ]
  },
  {
   "cell_type": "code",
   "execution_count": 1,
   "metadata": {},
   "outputs": [],
   "source": [
    "import pandas as pd\n",
    "\n",
    "import numpy as np\n",
    "from numpy import * \n",
    "\n",
    "import matplotlib.pyplot as plt\n",
    "%matplotlib inline\n",
    "import seaborn as sns\n",
    "\n",
    "from sklearn import metrics\n",
    "from sklearn.model_selection import train_test_split\n",
    "from sklearn.metrics import plot_confusion_matrix\n",
    "\n",
    "from sklearn.neighbors import KNeighborsClassifier\n",
    "from sklearn import linear_model\n",
    "from sklearn.naive_bayes import GaussianNB\n",
    "from sklearn import svm\n",
    "from sklearn.tree import DecisionTreeClassifier\n",
    "from sklearn.cluster import KMeans\n",
    "from sklearn.linear_model import Perceptron\n",
    "from sklearn.neural_network import MLPClassifier\n",
    "from sklearn.linear_model import SGDClassifier\n",
    "from sklearn.ensemble import RandomForestClassifier\n",
    "from sklearn.preprocessing import scale\n",
    "from sklearn.metrics import confusion_matrix,classification_report\n",
    "from sklearn.metrics import accuracy_score, precision_score, recall_score, f1_score\n",
    "\n",
    "import warnings\n",
    "warnings.filterwarnings('ignore')"
   ]
  },
  {
   "cell_type": "code",
   "execution_count": 2,
   "metadata": {},
   "outputs": [],
   "source": [
    "#Lee el excel generado en el otro documento .ipynb\n",
    "ddbb=pd.read_excel(\"/Github/DecatlonEstadistics/resources/data.xlsx\")\n",
    "del ddbb['1500m NF']\n",
    "\n",
    "ddbb['Country']=ddbb['Country'].str.lower()\n",
    "\n",
    "ddbb.columns = ['Position', 'Athlete', 'Age', 'Country', 'Total Points', 'Year', 'Competition', '100m', \n",
    "                 '100m Points', 'Lj', 'Lj Points', 'Sp', 'Sp Points', 'Hj', 'Hj Points', '400m', '400m Points', \n",
    "                 '110m H', '110m H Points', 'Dt', 'Dt Points', 'Pv', 'Pv Points', 'Jt', 'Jt Points', \n",
    "                 '1500m Points', '1500m']"
   ]
  },
  {
   "cell_type": "code",
   "execution_count": 3,
   "metadata": {},
   "outputs": [],
   "source": [
    "pKmeans = []\n",
    "\n",
    "for i in range(len(ddbb)):\n",
    "    if(ddbb.iloc[i]['Position'] <= 10):\n",
    "        pKmeans.append(10)\n",
    "    elif(ddbb.iloc[i]['Position'] > 10 and ddbb.iloc[i]['Position'] <= 25):\n",
    "        pKmeans.append(25)\n",
    "    elif(ddbb.iloc[i]['Position'] > 25):\n",
    "        pKmeans.append(30)"
   ]
  },
  {
   "cell_type": "markdown",
   "metadata": {},
   "source": [
    "## 0. Métricas Algoritmos"
   ]
  },
  {
   "cell_type": "code",
   "execution_count": 34,
   "metadata": {},
   "outputs": [],
   "source": [
    "def metricasAlgorithms(y_test, y_pred):\n",
    "    metricas = []\n",
    "    \n",
    "    metricas.append(accuracy_score(y_test, y_pred))\n",
    "    metricas.append(precision_score(y_test, y_pred, average='micro'))\n",
    "    metricas.append(recall_score(y_test, y_pred, average='micro'))\n",
    "    metricas.append(f1_score(y_test, y_pred, average='micro'))\n",
    "\n",
    "    metricas.append(precision_score(y_test, y_pred, average='macro'))\n",
    "    metricas.append(recall_score(y_test, y_pred, average='macro'))\n",
    "    metricas.append(f1_score(y_test, y_pred, average='macro'))\n",
    "\n",
    "    metricas.append(precision_score(y_test, y_pred, average='weighted'))\n",
    "    metricas.append(recall_score(y_test, y_pred, average='weighted'))\n",
    "    metricas.append(f1_score(y_test, y_pred, average='weighted'))\n",
    "    \n",
    "    return metricas\n",
    "\n",
    "def metricasAlgorithmsRegl(X_test, y_test, regL):\n",
    "    metricas = []\n",
    "    \n",
    "    metricas.append(regL.score(X_test,y_test))\n",
    "    metricas.append(0)\n",
    "    metricas.append(0)\n",
    "    metricas.append(0)\n",
    "    metricas.append(0)\n",
    "    metricas.append(0)\n",
    "    metricas.append(0)\n",
    "    metricas.append(0)\n",
    "    metricas.append(0)\n",
    "    metricas.append(0)\n",
    "    \n",
    "    return metricas"
   ]
  },
  {
   "cell_type": "markdown",
   "metadata": {},
   "source": [
    "## 1. Datos de entrenamiento y datos de test."
   ]
  },
  {
   "cell_type": "markdown",
   "metadata": {},
   "source": [
    "Los datos se entrenan en función a todas las pruebas resultantes y se clasifican en función a la posición obtenida.\n",
    "El 70% de los datos se utilizan para entrenamiento.\n",
    "El 30% restante se utiliza para tests."
   ]
  },
  {
   "cell_type": "code",
   "execution_count": 5,
   "metadata": {},
   "outputs": [],
   "source": [
    "ddbbData = ddbb[['100m','100m Points','Lj','Lj Points','Sp','Sp Points','Hj','Hj Points','400m Points','400m',\n",
    "                 '110m H','110m H Points','Dt','Dt Points','Pv','Pv Points','Jt','Jt Points','1500m Points','1500m']]\n",
    "\n",
    "X_train, X_test, y_train, y_test = train_test_split(ddbbData, ddbb['Position'], test_size=0.3)"
   ]
  },
  {
   "cell_type": "markdown",
   "metadata": {},
   "source": [
    "## 2. Vecinos Cercanos"
   ]
  },
  {
   "cell_type": "code",
   "execution_count": 21,
   "metadata": {},
   "outputs": [],
   "source": [
    "def knnFunction(X_train, X_test, y_train, y_test):\n",
    "    \n",
    "    knn = KNeighborsClassifier(n_neighbors=5)\n",
    "\n",
    "    #Entrena el modelo\n",
    "    knn.fit(X_train, y_train)\n",
    "\n",
    "    #Predice para los datos de test\n",
    "    y_pred = knn.predict(X_test)\n",
    "    \n",
    "    vector = metricasAlgorithms(y_test, y_pred)\n",
    "    \n",
    "    return(vector)"
   ]
  },
  {
   "cell_type": "markdown",
   "metadata": {},
   "source": [
    "## 3. Regresión Lineal"
   ]
  },
  {
   "cell_type": "code",
   "execution_count": 27,
   "metadata": {},
   "outputs": [],
   "source": [
    "def RegLinealFunction(X_train, X_test, y_train, y_test):\n",
    "    \n",
    "    regL = linear_model.LinearRegression()\n",
    "    \n",
    "    regL.fit(X_train, y_train)\n",
    "    \n",
    "    y_pred = regL.predict(X_test)\n",
    "    \n",
    "    return metricasAlgorithmsRegl(X_test, y_test, regL)"
   ]
  },
  {
   "cell_type": "markdown",
   "metadata": {},
   "source": [
    "## 4. Regresión Logística"
   ]
  },
  {
   "cell_type": "code",
   "execution_count": 8,
   "metadata": {},
   "outputs": [],
   "source": [
    "def RegLogisFunction(X_train, X_test, y_train, y_test):\n",
    "    \n",
    "    logreg = linear_model.LogisticRegression(random_state=0)\n",
    "\n",
    "    logreg.fit(X_train, y_train)\n",
    "\n",
    "    y_pred = logreg.predict(X_test)\n",
    "    \n",
    "    return metricasAlgorithms(y_test, y_pred)"
   ]
  },
  {
   "cell_type": "markdown",
   "metadata": {},
   "source": [
    "## 5. Naive Bayes"
   ]
  },
  {
   "cell_type": "code",
   "execution_count": 9,
   "metadata": {},
   "outputs": [],
   "source": [
    "def NaiveBayesFunction(X_train, X_test, y_train, y_test):\n",
    "    \n",
    "    gnb = GaussianNB()\n",
    "\n",
    "    gnb.fit(X_train, y_train)\n",
    "\n",
    "    y_pred = gnb.predict(X_test)\n",
    "\n",
    "    metricasAlgorithms(y_test, y_pred)\n",
    "    \n",
    "    return metricasAlgorithms(y_test, y_pred)"
   ]
  },
  {
   "cell_type": "markdown",
   "metadata": {},
   "source": [
    "##  6. K-Means"
   ]
  },
  {
   "cell_type": "code",
   "execution_count": 10,
   "metadata": {},
   "outputs": [],
   "source": [
    "def KmeansFunction(pKmeans, ddbbData):\n",
    "\n",
    "    X = scale(ddbbData)\n",
    "    y = pd.DataFrame(pKmeans)\n",
    "\n",
    "    kmeans1 = KMeans(n_clusters=1 , random_state= 5)\n",
    "\n",
    "    kmeans1.fit(X)\n",
    "\n",
    "    y_pred = np.choose(kmeans1.labels_,[10,25,30]).astype(np.int64)\n",
    "\n",
    "    return metricasAlgorithms(y, y_pred)"
   ]
  },
  {
   "cell_type": "markdown",
   "metadata": {},
   "source": [
    "## 7. Perceptron"
   ]
  },
  {
   "cell_type": "code",
   "execution_count": 11,
   "metadata": {},
   "outputs": [],
   "source": [
    "def PerceptronFunction(X_train, X_test, y_train, y_test):\n",
    "    \n",
    "    percep = Perceptron(tol=1e-5, random_state=1)\n",
    "\n",
    "    percep.fit(X_train, y_train)\n",
    "\n",
    "    y_pred = percep.predict(X_test)\n",
    "\n",
    "    metricasAlgorithms(y_test, y_pred)\n",
    "    \n",
    "    return metricasAlgorithms(y_test, y_pred)"
   ]
  },
  {
   "cell_type": "markdown",
   "metadata": {},
   "source": [
    "## 8. MLP- Perceptron Multi Capa"
   ]
  },
  {
   "cell_type": "code",
   "execution_count": 12,
   "metadata": {},
   "outputs": [],
   "source": [
    "def MLPFunction(X_train, X_test, y_train, y_test):\n",
    "\n",
    "    mlp = MLPClassifier(solver='lbfgs', alpha=1e-5,hidden_layer_sizes=(5, 2), random_state=1)\n",
    "\n",
    "    mlp.fit(X_train, y_train)\n",
    "\n",
    "    y_pred = mlp.predict(X_test)\n",
    "\n",
    "    metricasAlgorithms(y_test, y_pred)\n",
    "    \n",
    "    return metricasAlgorithms(y_test, y_pred)"
   ]
  },
  {
   "cell_type": "markdown",
   "metadata": {},
   "source": [
    "## 9. SVM - Supervised Vector Machine"
   ]
  },
  {
   "cell_type": "code",
   "execution_count": 13,
   "metadata": {},
   "outputs": [],
   "source": [
    "def SVMFunction(X_train, X_test, y_train, y_test):\n",
    "\n",
    "    clf = svm.SVC(kernel='linear')\n",
    "\n",
    "    clf.fit(X_train, y_train)\n",
    "\n",
    "    y_pred = clf.predict(X_test)\n",
    "\n",
    "    metricasAlgorithms(y_test, y_pred)\n",
    "\n",
    "    return metricasAlgorithms(y_test, y_pred)"
   ]
  },
  {
   "cell_type": "markdown",
   "metadata": {},
   "source": [
    "## 10. Descenso del gradiente"
   ]
  },
  {
   "cell_type": "code",
   "execution_count": 14,
   "metadata": {},
   "outputs": [],
   "source": [
    "def DescensoGradFunction(X_train, X_test, y_train, y_test):\n",
    "\n",
    "    dGrad = SGDClassifier(loss=\"hinge\", penalty=\"l2\")\n",
    "\n",
    "    dGrad.fit(X_train, y_train)\n",
    "\n",
    "    y_pred = dGrad.predict(X_test)\n",
    "\n",
    "    metricasAlgorithms(y_test, y_pred)\n",
    "\n",
    "    return metricasAlgorithms(y_test, y_pred)"
   ]
  },
  {
   "cell_type": "markdown",
   "metadata": {},
   "source": [
    "## 11. Arbol de decision"
   ]
  },
  {
   "cell_type": "code",
   "execution_count": 15,
   "metadata": {},
   "outputs": [],
   "source": [
    "def ArbolDecFunction(X_train, X_test, y_train, y_test):\n",
    "\n",
    "    clf = DecisionTreeClassifier(criterion=\"entropy\", max_depth=3)\n",
    "\n",
    "    clf = clf.fit(X_train,y_train)\n",
    "\n",
    "    y_pred = clf.predict(X_test)\n",
    "\n",
    "    metricasAlgorithms(y_test, y_pred)\n",
    "    \n",
    "    return metricasAlgorithms(y_test, y_pred)"
   ]
  },
  {
   "cell_type": "markdown",
   "metadata": {},
   "source": [
    "## 12. Random Forest"
   ]
  },
  {
   "cell_type": "code",
   "execution_count": 16,
   "metadata": {},
   "outputs": [],
   "source": [
    "def BosqueAlFunction(X_train, X_test, y_train, y_test):\n",
    "\n",
    "    rForest=RandomForestClassifier(n_estimators=100)\n",
    "\n",
    "    rForest.fit(X_train,y_train)\n",
    "\n",
    "    y_pred=rForest.predict(X_test)\n",
    "\n",
    "    metricasAlgorithms(y_test, y_pred)\n",
    "\n",
    "    return metricasAlgorithms(y_test, y_pred)"
   ]
  },
  {
   "cell_type": "code",
   "execution_count": 33,
   "metadata": {},
   "outputs": [
    {
     "ename": "ValueError",
     "evalue": "Classification metrics can't handle a mix of continuous-multioutput and continuous targets",
     "output_type": "error",
     "traceback": [
      "\u001b[0;31m---------------------------------------------------------------------------\u001b[0m",
      "\u001b[0;31mValueError\u001b[0m                                Traceback (most recent call last)",
      "\u001b[0;32m<ipython-input-33-734cc0f0cdcc>\u001b[0m in \u001b[0;36m<module>\u001b[0;34m\u001b[0m\n\u001b[1;32m      1\u001b[0m \u001b[0mknn\u001b[0m \u001b[0;34m=\u001b[0m \u001b[0mknnFunction\u001b[0m\u001b[0;34m(\u001b[0m\u001b[0mX_train\u001b[0m\u001b[0;34m,\u001b[0m \u001b[0mX_test\u001b[0m\u001b[0;34m,\u001b[0m \u001b[0my_train\u001b[0m\u001b[0;34m,\u001b[0m \u001b[0my_test\u001b[0m\u001b[0;34m)\u001b[0m\u001b[0;34m\u001b[0m\u001b[0;34m\u001b[0m\u001b[0m\n\u001b[1;32m      2\u001b[0m \u001b[0mkmeans\u001b[0m \u001b[0;34m=\u001b[0m \u001b[0mKmeansFunction\u001b[0m\u001b[0;34m(\u001b[0m\u001b[0mpKmeans\u001b[0m\u001b[0;34m,\u001b[0m \u001b[0mddbbData\u001b[0m\u001b[0;34m)\u001b[0m\u001b[0;34m\u001b[0m\u001b[0;34m\u001b[0m\u001b[0m\n\u001b[0;32m----> 3\u001b[0;31m \u001b[0mRegLin\u001b[0m \u001b[0;34m=\u001b[0m \u001b[0mRegLinealFunction\u001b[0m\u001b[0;34m(\u001b[0m\u001b[0mX_train\u001b[0m\u001b[0;34m,\u001b[0m \u001b[0mX_test\u001b[0m\u001b[0;34m,\u001b[0m \u001b[0my_train\u001b[0m\u001b[0;34m,\u001b[0m \u001b[0my_test\u001b[0m\u001b[0;34m)\u001b[0m\u001b[0;34m\u001b[0m\u001b[0;34m\u001b[0m\u001b[0m\n\u001b[0m\u001b[1;32m      4\u001b[0m \u001b[0mRegLog\u001b[0m \u001b[0;34m=\u001b[0m \u001b[0mRegLogisFunction\u001b[0m\u001b[0;34m(\u001b[0m\u001b[0mX_train\u001b[0m\u001b[0;34m,\u001b[0m \u001b[0mX_test\u001b[0m\u001b[0;34m,\u001b[0m \u001b[0my_train\u001b[0m\u001b[0;34m,\u001b[0m \u001b[0my_test\u001b[0m\u001b[0;34m)\u001b[0m\u001b[0;34m\u001b[0m\u001b[0;34m\u001b[0m\u001b[0m\n\u001b[1;32m      5\u001b[0m \u001b[0mNBayes\u001b[0m \u001b[0;34m=\u001b[0m \u001b[0mNaiveBayesFunction\u001b[0m\u001b[0;34m(\u001b[0m\u001b[0mX_train\u001b[0m\u001b[0;34m,\u001b[0m \u001b[0mX_test\u001b[0m\u001b[0;34m,\u001b[0m \u001b[0my_train\u001b[0m\u001b[0;34m,\u001b[0m \u001b[0my_test\u001b[0m\u001b[0;34m)\u001b[0m\u001b[0;34m\u001b[0m\u001b[0;34m\u001b[0m\u001b[0m\n",
      "\u001b[0;32m<ipython-input-27-822bc2d42222>\u001b[0m in \u001b[0;36mRegLinealFunction\u001b[0;34m(X_train, X_test, y_train, y_test)\u001b[0m\n\u001b[1;32m      7\u001b[0m     \u001b[0my_pred\u001b[0m \u001b[0;34m=\u001b[0m \u001b[0mregL\u001b[0m\u001b[0;34m.\u001b[0m\u001b[0mpredict\u001b[0m\u001b[0;34m(\u001b[0m\u001b[0mX_test\u001b[0m\u001b[0;34m)\u001b[0m\u001b[0;34m\u001b[0m\u001b[0;34m\u001b[0m\u001b[0m\n\u001b[1;32m      8\u001b[0m \u001b[0;34m\u001b[0m\u001b[0m\n\u001b[0;32m----> 9\u001b[0;31m     \u001b[0;32mreturn\u001b[0m \u001b[0mmetricasAlgorithmsRegl\u001b[0m\u001b[0;34m(\u001b[0m\u001b[0mX_test\u001b[0m\u001b[0;34m,\u001b[0m \u001b[0my_test\u001b[0m\u001b[0;34m,\u001b[0m \u001b[0my_pred\u001b[0m\u001b[0;34m)\u001b[0m\u001b[0;34m\u001b[0m\u001b[0;34m\u001b[0m\u001b[0m\n\u001b[0m",
      "\u001b[0;32m<ipython-input-32-851c4da68626>\u001b[0m in \u001b[0;36mmetricasAlgorithmsRegl\u001b[0;34m(X_test, y_test, y_pred)\u001b[0m\n\u001b[1;32m     20\u001b[0m     \u001b[0mmetricas\u001b[0m \u001b[0;34m=\u001b[0m \u001b[0;34m[\u001b[0m\u001b[0;34m]\u001b[0m\u001b[0;34m\u001b[0m\u001b[0;34m\u001b[0m\u001b[0m\n\u001b[1;32m     21\u001b[0m     \u001b[0;32mfrom\u001b[0m \u001b[0msklearn\u001b[0m\u001b[0;34m.\u001b[0m\u001b[0mmetrics\u001b[0m \u001b[0;32mimport\u001b[0m \u001b[0maccuracy_score\u001b[0m\u001b[0;34m\u001b[0m\u001b[0;34m\u001b[0m\u001b[0m\n\u001b[0;32m---> 22\u001b[0;31m     \u001b[0mmetricas\u001b[0m\u001b[0;34m.\u001b[0m\u001b[0mappend\u001b[0m\u001b[0;34m(\u001b[0m\u001b[0maccuracy_score\u001b[0m\u001b[0;34m(\u001b[0m\u001b[0mX_test\u001b[0m\u001b[0;34m,\u001b[0m \u001b[0my_pred\u001b[0m\u001b[0;34m)\u001b[0m\u001b[0;34m)\u001b[0m\u001b[0;34m\u001b[0m\u001b[0;34m\u001b[0m\u001b[0m\n\u001b[0m\u001b[1;32m     23\u001b[0m     \u001b[0mmetricas\u001b[0m\u001b[0;34m.\u001b[0m\u001b[0mappend\u001b[0m\u001b[0;34m(\u001b[0m\u001b[0;36m0\u001b[0m\u001b[0;34m)\u001b[0m\u001b[0;34m\u001b[0m\u001b[0;34m\u001b[0m\u001b[0m\n\u001b[1;32m     24\u001b[0m     \u001b[0mmetricas\u001b[0m\u001b[0;34m.\u001b[0m\u001b[0mappend\u001b[0m\u001b[0;34m(\u001b[0m\u001b[0;36m0\u001b[0m\u001b[0;34m)\u001b[0m\u001b[0;34m\u001b[0m\u001b[0;34m\u001b[0m\u001b[0m\n",
      "\u001b[0;32m/opt/conda/lib/python3.8/site-packages/sklearn/utils/validation.py\u001b[0m in \u001b[0;36minner_f\u001b[0;34m(*args, **kwargs)\u001b[0m\n\u001b[1;32m     71\u001b[0m                           FutureWarning)\n\u001b[1;32m     72\u001b[0m         \u001b[0mkwargs\u001b[0m\u001b[0;34m.\u001b[0m\u001b[0mupdate\u001b[0m\u001b[0;34m(\u001b[0m\u001b[0;34m{\u001b[0m\u001b[0mk\u001b[0m\u001b[0;34m:\u001b[0m \u001b[0marg\u001b[0m \u001b[0;32mfor\u001b[0m \u001b[0mk\u001b[0m\u001b[0;34m,\u001b[0m \u001b[0marg\u001b[0m \u001b[0;32min\u001b[0m \u001b[0mzip\u001b[0m\u001b[0;34m(\u001b[0m\u001b[0msig\u001b[0m\u001b[0;34m.\u001b[0m\u001b[0mparameters\u001b[0m\u001b[0;34m,\u001b[0m \u001b[0margs\u001b[0m\u001b[0;34m)\u001b[0m\u001b[0;34m}\u001b[0m\u001b[0;34m)\u001b[0m\u001b[0;34m\u001b[0m\u001b[0;34m\u001b[0m\u001b[0m\n\u001b[0;32m---> 73\u001b[0;31m         \u001b[0;32mreturn\u001b[0m \u001b[0mf\u001b[0m\u001b[0;34m(\u001b[0m\u001b[0;34m**\u001b[0m\u001b[0mkwargs\u001b[0m\u001b[0;34m)\u001b[0m\u001b[0;34m\u001b[0m\u001b[0;34m\u001b[0m\u001b[0m\n\u001b[0m\u001b[1;32m     74\u001b[0m     \u001b[0;32mreturn\u001b[0m \u001b[0minner_f\u001b[0m\u001b[0;34m\u001b[0m\u001b[0;34m\u001b[0m\u001b[0m\n\u001b[1;32m     75\u001b[0m \u001b[0;34m\u001b[0m\u001b[0m\n",
      "\u001b[0;32m/opt/conda/lib/python3.8/site-packages/sklearn/metrics/_classification.py\u001b[0m in \u001b[0;36maccuracy_score\u001b[0;34m(y_true, y_pred, normalize, sample_weight)\u001b[0m\n\u001b[1;32m    185\u001b[0m \u001b[0;34m\u001b[0m\u001b[0m\n\u001b[1;32m    186\u001b[0m     \u001b[0;31m# Compute accuracy for each possible representation\u001b[0m\u001b[0;34m\u001b[0m\u001b[0;34m\u001b[0m\u001b[0;34m\u001b[0m\u001b[0m\n\u001b[0;32m--> 187\u001b[0;31m     \u001b[0my_type\u001b[0m\u001b[0;34m,\u001b[0m \u001b[0my_true\u001b[0m\u001b[0;34m,\u001b[0m \u001b[0my_pred\u001b[0m \u001b[0;34m=\u001b[0m \u001b[0m_check_targets\u001b[0m\u001b[0;34m(\u001b[0m\u001b[0my_true\u001b[0m\u001b[0;34m,\u001b[0m \u001b[0my_pred\u001b[0m\u001b[0;34m)\u001b[0m\u001b[0;34m\u001b[0m\u001b[0;34m\u001b[0m\u001b[0m\n\u001b[0m\u001b[1;32m    188\u001b[0m     \u001b[0mcheck_consistent_length\u001b[0m\u001b[0;34m(\u001b[0m\u001b[0my_true\u001b[0m\u001b[0;34m,\u001b[0m \u001b[0my_pred\u001b[0m\u001b[0;34m,\u001b[0m \u001b[0msample_weight\u001b[0m\u001b[0;34m)\u001b[0m\u001b[0;34m\u001b[0m\u001b[0;34m\u001b[0m\u001b[0m\n\u001b[1;32m    189\u001b[0m     \u001b[0;32mif\u001b[0m \u001b[0my_type\u001b[0m\u001b[0;34m.\u001b[0m\u001b[0mstartswith\u001b[0m\u001b[0;34m(\u001b[0m\u001b[0;34m'multilabel'\u001b[0m\u001b[0;34m)\u001b[0m\u001b[0;34m:\u001b[0m\u001b[0;34m\u001b[0m\u001b[0;34m\u001b[0m\u001b[0m\n",
      "\u001b[0;32m/opt/conda/lib/python3.8/site-packages/sklearn/metrics/_classification.py\u001b[0m in \u001b[0;36m_check_targets\u001b[0;34m(y_true, y_pred)\u001b[0m\n\u001b[1;32m     88\u001b[0m \u001b[0;34m\u001b[0m\u001b[0m\n\u001b[1;32m     89\u001b[0m     \u001b[0;32mif\u001b[0m \u001b[0mlen\u001b[0m\u001b[0;34m(\u001b[0m\u001b[0my_type\u001b[0m\u001b[0;34m)\u001b[0m \u001b[0;34m>\u001b[0m \u001b[0;36m1\u001b[0m\u001b[0;34m:\u001b[0m\u001b[0;34m\u001b[0m\u001b[0;34m\u001b[0m\u001b[0m\n\u001b[0;32m---> 90\u001b[0;31m         raise ValueError(\"Classification metrics can't handle a mix of {0} \"\n\u001b[0m\u001b[1;32m     91\u001b[0m                          \"and {1} targets\".format(type_true, type_pred))\n\u001b[1;32m     92\u001b[0m \u001b[0;34m\u001b[0m\u001b[0m\n",
      "\u001b[0;31mValueError\u001b[0m: Classification metrics can't handle a mix of continuous-multioutput and continuous targets"
     ]
    }
   ],
   "source": [
    "knn = knnFunction(X_train, X_test, y_train, y_test)\n",
    "kmeans = KmeansFunction(pKmeans, ddbbData)\n",
    "RegLin = RegLinealFunction(X_train, X_test, y_train, y_test)\n",
    "RegLog = RegLogisFunction(X_train, X_test, y_train, y_test)\n",
    "NBayes = NaiveBayesFunction(X_train, X_test, y_train, y_test)\n",
    "Percep = PerceptronFunction(X_train, X_test, y_train, y_test)\n",
    "DGrad = DescensoGradFunction(X_train, X_test, y_train, y_test)\n",
    "mlp = MLPFunction(X_train, X_test, y_train, y_test)\n",
    "ADecis = ArbolDecFunction(X_train, X_test, y_train, y_test)\n",
    "BAleatorio = BosqueAlFunction(X_train, X_test, y_train, y_test)\n",
    "dataFrameDatos = pd.DataFrame({\n",
    "                                'Metricas': ['Accuracy Micro','Precision Micro','Recall Micro','F1 Micro',\n",
    "                                             'Precision Macro','Recall Macro','F1 Macro','Precision Weigthed',\n",
    "                                             'Recall Weigthed','F1 Weigthed'],\n",
    "                                'knn': knn,\n",
    "                                'Regresion lineal': RegLin,\n",
    "                                'Regresion logistica': RegLog,\n",
    "                                'Kmeans' : kmeans,\n",
    "                                'Naive bayes': NBayes,\n",
    "                                'Perceptron': Percep,\n",
    "                                'MLP': mlp,\n",
    "                                #'SVM': SVMFunction(X_train, X_test, y_train, y_test),\n",
    "                                'Descenso gradiente': DGrad,\n",
    "                                'Arbol de decision': ADecis,\n",
    "                                'Bosque aleatorios': BAleatorio \n",
    "                            })\n"
   ]
  },
  {
   "cell_type": "code",
   "execution_count": 18,
   "metadata": {},
   "outputs": [
    {
     "data": {
      "text/html": [
       "<div>\n",
       "<style scoped>\n",
       "    .dataframe tbody tr th:only-of-type {\n",
       "        vertical-align: middle;\n",
       "    }\n",
       "\n",
       "    .dataframe tbody tr th {\n",
       "        vertical-align: top;\n",
       "    }\n",
       "\n",
       "    .dataframe thead th {\n",
       "        text-align: right;\n",
       "    }\n",
       "</style>\n",
       "<table border=\"1\" class=\"dataframe\">\n",
       "  <thead>\n",
       "    <tr style=\"text-align: right;\">\n",
       "      <th></th>\n",
       "      <th>Metricas</th>\n",
       "      <th>knn</th>\n",
       "      <th>Regresion lineal</th>\n",
       "      <th>Regresion logistica</th>\n",
       "      <th>Kmeans</th>\n",
       "      <th>Naive bayes</th>\n",
       "      <th>Perceptron</th>\n",
       "      <th>MLP</th>\n",
       "      <th>Descenso gradiente</th>\n",
       "      <th>Arbol de decision</th>\n",
       "      <th>Bosque aleatorios</th>\n",
       "    </tr>\n",
       "  </thead>\n",
       "  <tbody>\n",
       "    <tr>\n",
       "      <th>0</th>\n",
       "      <td>Accuracy Micro</td>\n",
       "      <td>0.105882</td>\n",
       "      <td>0.444081</td>\n",
       "      <td>0.050980</td>\n",
       "      <td>0.469412</td>\n",
       "      <td>0.078431</td>\n",
       "      <td>0.062745</td>\n",
       "      <td>0.031373</td>\n",
       "      <td>0.043137</td>\n",
       "      <td>0.074510</td>\n",
       "      <td>0.082353</td>\n",
       "    </tr>\n",
       "    <tr>\n",
       "      <th>1</th>\n",
       "      <td>Precision Micro</td>\n",
       "      <td>0.105882</td>\n",
       "      <td>0.000000</td>\n",
       "      <td>0.050980</td>\n",
       "      <td>0.469412</td>\n",
       "      <td>0.078431</td>\n",
       "      <td>0.062745</td>\n",
       "      <td>0.031373</td>\n",
       "      <td>0.043137</td>\n",
       "      <td>0.074510</td>\n",
       "      <td>0.082353</td>\n",
       "    </tr>\n",
       "    <tr>\n",
       "      <th>2</th>\n",
       "      <td>Recall Micro</td>\n",
       "      <td>0.105882</td>\n",
       "      <td>0.000000</td>\n",
       "      <td>0.050980</td>\n",
       "      <td>0.469412</td>\n",
       "      <td>0.078431</td>\n",
       "      <td>0.062745</td>\n",
       "      <td>0.031373</td>\n",
       "      <td>0.043137</td>\n",
       "      <td>0.074510</td>\n",
       "      <td>0.082353</td>\n",
       "    </tr>\n",
       "    <tr>\n",
       "      <th>3</th>\n",
       "      <td>F1 Micro</td>\n",
       "      <td>0.105882</td>\n",
       "      <td>0.000000</td>\n",
       "      <td>0.050980</td>\n",
       "      <td>0.469412</td>\n",
       "      <td>0.078431</td>\n",
       "      <td>0.062745</td>\n",
       "      <td>0.031373</td>\n",
       "      <td>0.043137</td>\n",
       "      <td>0.074510</td>\n",
       "      <td>0.082353</td>\n",
       "    </tr>\n",
       "    <tr>\n",
       "      <th>4</th>\n",
       "      <td>Precision Macro</td>\n",
       "      <td>0.051726</td>\n",
       "      <td>0.000000</td>\n",
       "      <td>0.043717</td>\n",
       "      <td>0.156471</td>\n",
       "      <td>0.029455</td>\n",
       "      <td>0.006367</td>\n",
       "      <td>0.001012</td>\n",
       "      <td>0.008692</td>\n",
       "      <td>0.016878</td>\n",
       "      <td>0.059842</td>\n",
       "    </tr>\n",
       "    <tr>\n",
       "      <th>5</th>\n",
       "      <td>Recall Macro</td>\n",
       "      <td>0.069731</td>\n",
       "      <td>0.000000</td>\n",
       "      <td>0.052358</td>\n",
       "      <td>0.333333</td>\n",
       "      <td>0.045482</td>\n",
       "      <td>0.038778</td>\n",
       "      <td>0.031250</td>\n",
       "      <td>0.035863</td>\n",
       "      <td>0.056566</td>\n",
       "      <td>0.061291</td>\n",
       "    </tr>\n",
       "    <tr>\n",
       "      <th>6</th>\n",
       "      <td>F1 Macro</td>\n",
       "      <td>0.056632</td>\n",
       "      <td>0.000000</td>\n",
       "      <td>0.039658</td>\n",
       "      <td>0.212970</td>\n",
       "      <td>0.034057</td>\n",
       "      <td>0.009239</td>\n",
       "      <td>0.001961</td>\n",
       "      <td>0.013446</td>\n",
       "      <td>0.022075</td>\n",
       "      <td>0.058469</td>\n",
       "    </tr>\n",
       "    <tr>\n",
       "      <th>7</th>\n",
       "      <td>Precision Weigthed</td>\n",
       "      <td>0.078898</td>\n",
       "      <td>0.000000</td>\n",
       "      <td>0.059699</td>\n",
       "      <td>0.220347</td>\n",
       "      <td>0.053052</td>\n",
       "      <td>0.011027</td>\n",
       "      <td>0.001016</td>\n",
       "      <td>0.011319</td>\n",
       "      <td>0.029480</td>\n",
       "      <td>0.089345</td>\n",
       "    </tr>\n",
       "    <tr>\n",
       "      <th>8</th>\n",
       "      <td>Recall Weigthed</td>\n",
       "      <td>0.105882</td>\n",
       "      <td>0.000000</td>\n",
       "      <td>0.050980</td>\n",
       "      <td>0.469412</td>\n",
       "      <td>0.078431</td>\n",
       "      <td>0.062745</td>\n",
       "      <td>0.031373</td>\n",
       "      <td>0.043137</td>\n",
       "      <td>0.074510</td>\n",
       "      <td>0.082353</td>\n",
       "    </tr>\n",
       "    <tr>\n",
       "      <th>9</th>\n",
       "      <td>F1 Weigthed</td>\n",
       "      <td>0.086260</td>\n",
       "      <td>0.000000</td>\n",
       "      <td>0.046922</td>\n",
       "      <td>0.299912</td>\n",
       "      <td>0.060614</td>\n",
       "      <td>0.015902</td>\n",
       "      <td>0.001968</td>\n",
       "      <td>0.017347</td>\n",
       "      <td>0.037650</td>\n",
       "      <td>0.082911</td>\n",
       "    </tr>\n",
       "  </tbody>\n",
       "</table>\n",
       "</div>"
      ],
      "text/plain": [
       "             Metricas       knn  Regresion lineal  Regresion logistica  \\\n",
       "0      Accuracy Micro  0.105882          0.444081             0.050980   \n",
       "1     Precision Micro  0.105882          0.000000             0.050980   \n",
       "2        Recall Micro  0.105882          0.000000             0.050980   \n",
       "3            F1 Micro  0.105882          0.000000             0.050980   \n",
       "4     Precision Macro  0.051726          0.000000             0.043717   \n",
       "5        Recall Macro  0.069731          0.000000             0.052358   \n",
       "6            F1 Macro  0.056632          0.000000             0.039658   \n",
       "7  Precision Weigthed  0.078898          0.000000             0.059699   \n",
       "8     Recall Weigthed  0.105882          0.000000             0.050980   \n",
       "9         F1 Weigthed  0.086260          0.000000             0.046922   \n",
       "\n",
       "     Kmeans  Naive bayes  Perceptron       MLP  Descenso gradiente  \\\n",
       "0  0.469412     0.078431    0.062745  0.031373            0.043137   \n",
       "1  0.469412     0.078431    0.062745  0.031373            0.043137   \n",
       "2  0.469412     0.078431    0.062745  0.031373            0.043137   \n",
       "3  0.469412     0.078431    0.062745  0.031373            0.043137   \n",
       "4  0.156471     0.029455    0.006367  0.001012            0.008692   \n",
       "5  0.333333     0.045482    0.038778  0.031250            0.035863   \n",
       "6  0.212970     0.034057    0.009239  0.001961            0.013446   \n",
       "7  0.220347     0.053052    0.011027  0.001016            0.011319   \n",
       "8  0.469412     0.078431    0.062745  0.031373            0.043137   \n",
       "9  0.299912     0.060614    0.015902  0.001968            0.017347   \n",
       "\n",
       "   Arbol de decision  Bosque aleatorios  \n",
       "0           0.074510           0.082353  \n",
       "1           0.074510           0.082353  \n",
       "2           0.074510           0.082353  \n",
       "3           0.074510           0.082353  \n",
       "4           0.016878           0.059842  \n",
       "5           0.056566           0.061291  \n",
       "6           0.022075           0.058469  \n",
       "7           0.029480           0.089345  \n",
       "8           0.074510           0.082353  \n",
       "9           0.037650           0.082911  "
      ]
     },
     "execution_count": 18,
     "metadata": {},
     "output_type": "execute_result"
    }
   ],
   "source": [
    "dataFrameDatos"
   ]
  },
  {
   "cell_type": "code",
   "execution_count": null,
   "metadata": {},
   "outputs": [],
   "source": []
  },
  {
   "cell_type": "code",
   "execution_count": null,
   "metadata": {},
   "outputs": [],
   "source": []
  },
  {
   "cell_type": "code",
   "execution_count": null,
   "metadata": {},
   "outputs": [],
   "source": []
  },
  {
   "cell_type": "code",
   "execution_count": null,
   "metadata": {},
   "outputs": [],
   "source": []
  }
 ],
 "metadata": {
  "kernelspec": {
   "display_name": "Python 3",
   "language": "python",
   "name": "python3"
  },
  "language_info": {
   "codemirror_mode": {
    "name": "ipython",
    "version": 3
   },
   "file_extension": ".py",
   "mimetype": "text/x-python",
   "name": "python",
   "nbconvert_exporter": "python",
   "pygments_lexer": "ipython3",
   "version": "3.8.3"
  }
 },
 "nbformat": 4,
 "nbformat_minor": 4
}
