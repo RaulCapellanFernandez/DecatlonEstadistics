{
 "cells": [
  {
   "cell_type": "code",
   "execution_count": 1,
   "metadata": {},
   "outputs": [],
   "source": [
    "import pandas as pd\n",
    "import numpy as np\n",
    "import matplotlib.pyplot as plt\n",
    "%matplotlib inline\n",
    "import seaborn as sns\n",
    "from sklearn.decomposition import PCA"
   ]
  },
  {
   "cell_type": "code",
   "execution_count": 2,
   "metadata": {
    "scrolled": true
   },
   "outputs": [],
   "source": [
    "#Lee el excel generado en el otro documento .ipynb\n",
    "ddbb=pd.read_excel(\"/Github/DecatlonEstadistics/resources/data.xlsx\")\n",
    "del ddbb['1500m NF']\n",
    "\n",
    "ddbb.columns = ['Position', 'Athlete', 'Age', 'Country', 'Total Points', 'Year', 'Competition', '100m', \n",
    "                 '100m Points', 'Lj', 'Lj Points', 'Sp', 'Sp Points', 'Hj', 'Hj Points', '400m', '400m Points', \n",
    "                 '110m H', '110m H Points', 'Dt', 'Dt Points', 'Pv', 'Pv Points', 'Jt', 'Jt Points', \n",
    "                 '1500m Points', '1500m']"
   ]
  },
  {
   "cell_type": "code",
   "execution_count": 3,
   "metadata": {},
   "outputs": [],
   "source": [
    "#Coge unicamente los datos de cada prueba y sus puntuaciones \n",
    "#Para poder aplicar el algoritmo PCA\n",
    "ddbbData = ddbb[['100m','100m Points','Lj','Lj Points','Sp','Sp Points',\n",
    "                 'Hj','Hj Points','400m Points','400m','110m H','110m H Points','Dt','Dt Points',\n",
    "                 'Pv','Pv Points','Jt','Jt Points','1500m Points','1500m']]"
   ]
  },
  {
   "cell_type": "code",
   "execution_count": 4,
   "metadata": {},
   "outputs": [],
   "source": [
    "############################################################################\n",
    "######################## Algoritmo PCA #####################################\n",
    "############################################################################\n",
    "pca = PCA(n_components=2)\n",
    "new = pca.fit_transform(ddbbData)"
   ]
  },
  {
   "cell_type": "code",
   "execution_count": 5,
   "metadata": {},
   "outputs": [
    {
     "data": {
      "text/plain": [
       "Text(0.5, 1.0, 'Mayor variación en puntuacion PC2')"
      ]
     },
     "execution_count": 5,
     "metadata": {},
     "output_type": "execute_result"
    },
    {
     "data": {
      "image/png": "[encoded data removed]",
      "text/plain": [
       "<Figure size 360x360 with 1 Axes>"
      ]
     },
     "metadata": {
      "needs_background": "light"
     },
     "output_type": "display_data"
    },
    {
     "data": {
      "image/png": "[encoded data removed]",
      "text/plain": [
       "<Figure size 360x360 with 1 Axes>"
      ]
     },
     "metadata": {
      "needs_background": "light"
     },
     "output_type": "display_data"
    }
   ],
   "source": [
    "#Muestra la importancia de las caracteristicas en porcentajes\n",
    "importancia = abs( pca.components_ )\n",
    "importancia\n",
    "\n",
    "imp = pd.DataFrame({'Pruebas': ['100m','100m Points','Lj','Lj Points','Sp','Sp Points',\n",
    "                    'Hj','Hj Points','400m Points','400m','110m H','110m H Points','Dt','Dt Points',\n",
    "                    'Pv','Pv Points','Jt','Jt Points','1500m Points','1500m'], 'Valores': importancia[0]})\n",
    "\n",
    "\n",
    "plt.figure(figsize=(5,5))\n",
    "sns.barplot(x = 'Valores', y = 'Pruebas', data = imp).set_title('Mayor variación en pruebas PC1')\n",
    "\n",
    "imp = pd.DataFrame({'Pruebas': ['100m','100m Points','Lj','Lj Points','Sp','Sp Points',\n",
    "                    'Hj','Hj Points','400m Points','400m','110m H','110m H Points','Dt','Dt Points',\n",
    "                    'Pv','Pv Points','Jt','Jt Points','1500m Points','1500m'], 'Valores': importancia[1]})\n",
    "\n",
    "\n",
    "plt.figure(figsize=(5,5))\n",
    "sns.barplot(x = 'Valores', y = 'Pruebas', data = imp).set_title('Mayor variación en puntuacion PC2')"
   ]
  },
  {
   "cell_type": "code",
   "execution_count": 6,
   "metadata": {},
   "outputs": [
    {
     "name": "stdout",
     "output_type": "stream",
     "text": [
      "El atleta más joven en participar en unos JJOO es: Bob Mathias con 17 años en el año 1948 en la posicion 1\n"
     ]
    }
   ],
   "source": [
    "############################################################################\n",
    "######################## Atleta más joven JJOO #############################\n",
    "############################################################################\n",
    "\n",
    "edadMin = 999\n",
    "aux = 0\n",
    "pos = 0\n",
    "\n",
    "for i in ddbb['Age']:\n",
    "    if(edadMin > i and i!=0):\n",
    "        edadMin = i\n",
    "        pos = aux\n",
    "    aux = aux +1\n",
    "\n",
    "print(\"El atleta más joven en participar en unos JJOO es:\",ddbb.iloc[pos]['Athlete'], \"con\", \n",
    "      ddbb.iloc[pos]['Age'],\"años en el año\", ddbb.iloc[pos]['Year'],\"en la posicion\", ddbb.iloc[pos]['Position'])"
   ]
  },
  {
   "cell_type": "code",
   "execution_count": 7,
   "metadata": {},
   "outputs": [
    {
     "name": "stdout",
     "output_type": "stream",
     "text": [
      "El atleta más mayor en participar en unos JJOO es: Witold Gerutto con 35 años en el año 1948 en la posicion 19\n"
     ]
    }
   ],
   "source": [
    "############################################################################\n",
    "######################## Atleta más mayor JJOO #############################\n",
    "############################################################################\n",
    "\n",
    "edadMax = 0\n",
    "aux = 0\n",
    "pos = 0\n",
    "\n",
    "for i in ddbb['Age']:\n",
    "    if(edadMax < i and i!=0):\n",
    "        edadMax = i\n",
    "        pos = aux\n",
    "    aux = aux +1\n",
    "\n",
    "print(\"El atleta más mayor en participar en unos JJOO es:\",ddbb.iloc[pos]['Athlete'], \"con\", \n",
    "      ddbb.iloc[pos]['Age'],\"años en el año\", ddbb.iloc[pos]['Year'],\"en la posicion\", ddbb.iloc[pos]['Position'])"
   ]
  },
  {
   "cell_type": "code",
   "execution_count": 8,
   "metadata": {},
   "outputs": [
    {
     "name": "stdout",
     "output_type": "stream",
     "text": [
      "El atleta más joven en ganr unos JJOO es: Bob Mathias con 17 años en el año 1948\n"
     ]
    }
   ],
   "source": [
    "############################################################################\n",
    "####################### Atleta más joven en ganar JJOO #####################\n",
    "############################################################################\n",
    "\n",
    "edadMin = 999\n",
    "aux = 0\n",
    "pos = 0\n",
    "\n",
    "for i in ddbb['Age']:\n",
    "    if(edadMin > i and i!=0 and ddbb.iloc[aux]['Position'] == \"1\"):\n",
    "        edadMin = i\n",
    "        pos = aux\n",
    "    aux = aux +1\n",
    "\n",
    "print(\"El atleta más joven en ganr unos JJOO es:\",ddbb.iloc[pos]['Athlete'], \"con\", \n",
    "      ddbb.iloc[pos]['Age'],\"años en el año\", ddbb.iloc[pos]['Year'])"
   ]
  },
  {
   "cell_type": "code",
   "execution_count": 55,
   "metadata": {},
   "outputs": [
    {
     "name": "stdout",
     "output_type": "stream",
     "text": [
      "El atleta más mayor en participar en unos JJOO es: Dan O'Brien con 30 años en el año 1996\n"
     ]
    }
   ],
   "source": [
    "############################################################################\n",
    "##################### Atleta más mayor en ganar JJOO #######################\n",
    "############################################################################\n",
    "\n",
    "edadMax = 0\n",
    "aux = 0\n",
    "pos = 0\n",
    "\n",
    "for i in ddbb['Age']:\n",
    "    if(edadMax < i and i!=0 and ddbb.iloc[aux]['Position'] == \"1\"):\n",
    "        edadMax = i\n",
    "        pos = aux\n",
    "    aux = aux +1\n",
    "\n",
    "print(\"El atleta más mayor en participar en unos JJOO es:\",ddbb.iloc[pos]['Athlete'], \"con\", \n",
    "      ddbb.iloc[pos]['Age'],\"años en el año\", ddbb.iloc[pos]['Year'])"
   ]
  },
  {
   "cell_type": "code",
   "execution_count": 70,
   "metadata": {},
   "outputs": [
    {
     "name": "stdout",
     "output_type": "stream",
     "text": [
      "El atleta que posee el recor olímpico es Roman Å ebrle con una puntuacion de 8893 en los JJOO del año 2004\n",
      "El atleta que posee el recor olímpico es Ashton Eaton con una puntuacion de 8893 en los JJOO del año 2016\n"
     ]
    }
   ],
   "source": [
    "############################################################################\n",
    "##################### Record puntuación en unos JJOO #######################\n",
    "############################################################################\n",
    "\n",
    "puntMax = 0\n",
    "aux = 0\n",
    "pos = []\n",
    "\n",
    "for i in ddbb['Total Points']:\n",
    "    if(puntMax <= i and ddbb.iloc[aux][\"Competition\"] == 'JJOO'):\n",
    "        if(puntMax == i):\n",
    "            pos.append(aux)\n",
    "        else:\n",
    "            puntMax = i\n",
    "            pos.clear()\n",
    "            pos.append(aux)\n",
    "    aux = aux+1\n",
    "\n",
    "for i in pos:\n",
    "    print(\"El atleta que posee el recor olímpico es\", ddbb.iloc[i]['Athlete'],\"con una puntuacion de\",\n",
    "         ddbb.iloc[i]['Total Points'],\"en los JJOO del año\",ddbb.iloc[i]['Year'])"
   ]
  },
  {
   "cell_type": "code",
   "execution_count": 71,
   "metadata": {},
   "outputs": [
    {
     "name": "stdout",
     "output_type": "stream",
     "text": [
      "El atleta que posee el recor olímpico es Ashton Eaton con una puntuacion de 9045 en los JJOO del año 2015\n"
     ]
    }
   ],
   "source": [
    "############################################################################\n",
    "##################### Record puntuación en los WC ##########################\n",
    "############################################################################\n",
    "\n",
    "puntMax = 0\n",
    "aux = 0\n",
    "pos = []\n",
    "\n",
    "for i in ddbb['Total Points']:\n",
    "    if(puntMax <= i and ddbb.iloc[aux][\"Competition\"] == 'WC'):\n",
    "        if(puntMax == i):\n",
    "            pos.append(aux)\n",
    "        else:\n",
    "            puntMax = i\n",
    "            pos.clear()\n",
    "            pos.append(aux)\n",
    "    aux = aux+1\n",
    "\n",
    "for i in pos:\n",
    "    print(\"El atleta que posee el recor olímpico es\", ddbb.iloc[i]['Athlete'],\"con una puntuacion de\",\n",
    "         ddbb.iloc[i]['Total Points'],\"en los JJOO del año\",ddbb.iloc[i]['Year'])"
   ]
  },
  {
   "cell_type": "code",
   "execution_count": null,
   "metadata": {},
   "outputs": [],
   "source": []
  }
 ],
 "metadata": {
  "kernelspec": {
   "display_name": "Python 3",
   "language": "python",
   "name": "python3"
  },
  "language_info": {
   "codemirror_mode": {
    "name": "ipython",
    "version": 3
   },
   "file_extension": ".py",
   "mimetype": "text/x-python",
   "name": "python",
   "nbconvert_exporter": "python",
   "pygments_lexer": "ipython3",
   "version": "3.7.6"
  }
 },
 "nbformat": 4,
 "nbformat_minor": 4
}
